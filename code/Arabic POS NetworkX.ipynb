{
 "cells": [
  {
   "cell_type": "markdown",
   "id": "42cff0e9",
   "metadata": {},
   "source": [
    "# Problem Statement:\n",
    "Despite advancements in Arabic POS tagging algorithms, achieving consistent accuracy remains a challenging task due to the language's complex morphology and dialectal variations. To address this challenge, employing graph analysis shows promise in capturing intricate word relationships. Challenges include constructing effective linguistic graphs, extracting relevant features, ensuring computational efficiency, and defining appropriate evaluation metrics tailored to Arabic's linguistic nuances. This approach aims to enhance the precision of POS tagging in diverse Arabic language contexts."
   ]
  },
  {
   "cell_type": "markdown",
   "id": "340a5d8c",
   "metadata": {},
   "source": [
    "# Table of Contents\n",
    "\n",
    "1. [**Step 1: Install and Import Required Libraries**](#step-1-install-and-import-required-libraries)\n",
    "2. [**Step 2: Reading Data with Transforming to CSV**](#step-2-reading-data-with-transforming-to-csv)\n",
    "3. [**Step 3: Data Cleaning and Pre-processing**](#step-3-data-cleaning-and-pre-processing)\n",
    "   1. [**Step 3-1: Data Filtering**](#step-3-1-data-filtering)\n",
    "   2. [**Step 3-2: Collate Sentences**](#step-3-2-collate-sentences)\n",
    "   3. [**Step 3-3: Tokenization**](#step-3-3-tokenization)\n",
    "   4. [**Step 3-4: Padding**](#step-3-4-padding)\n",
    "4. [**Step 4: Word Embeddings From Aravec**](#step-4-word-embeddings-from-aravec)\n",
    "5. [**Step 5: Finalizing the Shape of Data**](#step-5-finalizing-the-shape-of-data)\n",
    "6. [**Step 6: Modeling**](#step-6-modeling)\n",
    "   1. [**Step 6-1: Vanilla RNN**](#step-6-1-vanilla-rnn)\n",
    "   2. [**Step 6-2: LSTM**](#step-6-2-lstm)\n",
    "   3. [**Step 6-3: Bi-directional LSTM**](#step-6-3-bi-directional-lstm)\n",
    "7. [**Step 7: Inference Using NetworkX**](#step-7-inference-using-networkx)"
   ]
  },
  {
   "cell_type": "markdown",
   "id": "86ad3e75",
   "metadata": {},
   "source": [
    "## Step 1 : Install and Import Required Libraries"
   ]
  },
  {
   "cell_type": "code",
   "execution_count": null,
   "id": "42d679cb",
   "metadata": {},
   "outputs": [],
   "source": [
    "# Install the conllu package \n",
    "!pip install conllu"
   ]
  },
  {
   "cell_type": "code",
   "execution_count": null,
   "id": "3bf9fbc0",
   "metadata": {},
   "outputs": [],
   "source": [
    "# Install the tqdm package for displaying progress bars in the console\n",
    "!pip install tqdm"
   ]
  },
  {
   "cell_type": "code",
   "execution_count": null,
   "id": "40eede6c",
   "metadata": {},
   "outputs": [],
   "source": [
    "# Install the Keras library\n",
    "!pip install keras"
   ]
  },
  {
   "cell_type": "code",
   "execution_count": null,
   "id": "b8b10913",
   "metadata": {},
   "outputs": [],
   "source": [
    "# Install the TensorFlow library\n",
    "!pip install tensorflow"
   ]
  },
  {
   "cell_type": "code",
   "execution_count": null,
   "id": "d33c179d",
   "metadata": {},
   "outputs": [],
   "source": [
    "# Install the python-bidi package for bidirectional text handling\n",
    "!pip install python-bidi"
   ]
  },
  {
   "cell_type": "code",
   "execution_count": null,
   "id": "ce31c204",
   "metadata": {},
   "outputs": [],
   "source": [
    "# Install the arabic-reshaper package for reshaping Arabic text for proper display\n",
    "!pip install arabic-reshaper"
   ]
  },
  {
   "cell_type": "code",
   "execution_count": 1,
   "id": "5e3c8cc6",
   "metadata": {},
   "outputs": [
    {
     "name": "stdout",
     "output_type": "stream",
     "text": [
      "WARNING:tensorflow:From C:\\Users\\Mustafa Abdulnasser\\anaconda3\\lib\\site-packages\\keras\\src\\losses.py:2976: The name tf.losses.sparse_softmax_cross_entropy is deprecated. Please use tf.compat.v1.losses.sparse_softmax_cross_entropy instead.\n",
      "\n"
     ]
    }
   ],
   "source": [
    "# import necessary libraries\n",
    "import warnings\n",
    "warnings.filterwarnings(\"ignore\")\n",
    "\n",
    "import numpy as np\n",
    "import pandas as pd\n",
    "import csv\n",
    "import seaborn as sns\n",
    "import networkx as nx\n",
    "import gensim\n",
    "import networkx as nx\n",
    "import matplotlib.pyplot as plt\n",
    "import arabic_reshaper\n",
    "import seaborn as sns\n",
    "import random\n",
    "\n",
    "from tqdm import tqdm\n",
    "from keras.preprocessing.text import Tokenizer\n",
    "from keras.utils import to_categorical\n",
    "from conllu import parse, parse_incr\n",
    "from keras.preprocessing.sequence import pad_sequences\n",
    "from matplotlib import pyplot as plt\n",
    "from sklearn.model_selection import train_test_split\n",
    "from sklearn.metrics import f1_score\n",
    "from gensim.models import KeyedVectors\n",
    "from keras.models import Sequential\n",
    "from keras.layers import Embedding\n",
    "from keras.layers import Dense, Input\n",
    "from keras.layers import TimeDistributed\n",
    "from keras.layers import LSTM, Bidirectional, SimpleRNN, RNN\n",
    "from keras.models import Model\n",
    "from keras.layers import Dropout\n",
    "from bidi.algorithm import get_display\n",
    "from sklearn.preprocessing import MultiLabelBinarizer"
   ]
  },
  {
   "cell_type": "code",
   "execution_count": 2,
   "id": "7fba2adc",
   "metadata": {},
   "outputs": [],
   "source": [
    "# Import classes from python scripts\n",
    "from Data_Preparation import PreProcessing\n",
    "from Word_Embeddings import EmbeddingProcessing"
   ]
  },
  {
   "cell_type": "markdown",
   "id": "dc440406",
   "metadata": {},
   "source": [
    "## Step 2 : Reading data with transforming to csv"
   ]
  },
  {
   "cell_type": "code",
   "execution_count": 3,
   "id": "cbc16d00",
   "metadata": {},
   "outputs": [],
   "source": [
    "# Create an instance of PreProcessing class\n",
    "processor = PreProcessing()"
   ]
  },
  {
   "cell_type": "code",
   "execution_count": 4,
   "id": "b9827115",
   "metadata": {},
   "outputs": [
    {
     "name": "stdout",
     "output_type": "stream",
     "text": [
      "CSV file C:/Users/Mustafa Abdulnasser/Desktop/Task1/data/train.csv generated successfully.\n"
     ]
    }
   ],
   "source": [
    "# Specify the path to your CoNLL-U file\n",
    "conllu_file_path = \"C:/Users/Mustafa Abdulnasser/Desktop/Task1/data/ar_padt-ud-train.conllu\"\n",
    "\n",
    "# Specify the path to the output file\n",
    "output_file_path = \"C:/Users/Mustafa Abdulnasser/Desktop/Task1/data/train.csv\"\n",
    "\n",
    "# Call conllu_to_dataframe to generate the CSV file from CoNLL-U\n",
    "train_df = processor.conllu_to_dataframe(conllu_file_path, output_file_path)"
   ]
  },
  {
   "cell_type": "code",
   "execution_count": 5,
   "id": "87c01210",
   "metadata": {},
   "outputs": [
    {
     "data": {
      "text/html": [
       "<div>\n",
       "<style scoped>\n",
       "    .dataframe tbody tr th:only-of-type {\n",
       "        vertical-align: middle;\n",
       "    }\n",
       "\n",
       "    .dataframe tbody tr th {\n",
       "        vertical-align: top;\n",
       "    }\n",
       "\n",
       "    .dataframe thead th {\n",
       "        text-align: right;\n",
       "    }\n",
       "</style>\n",
       "<table border=\"1\" class=\"dataframe\">\n",
       "  <thead>\n",
       "    <tr style=\"text-align: right;\">\n",
       "      <th></th>\n",
       "      <th>ID</th>\n",
       "      <th>FORM</th>\n",
       "      <th>LEMMA</th>\n",
       "      <th>UPOS</th>\n",
       "      <th>XPOS</th>\n",
       "      <th>FEATS</th>\n",
       "      <th>HEAD</th>\n",
       "      <th>DEPREL</th>\n",
       "      <th>DEPS</th>\n",
       "      <th>MISC</th>\n",
       "    </tr>\n",
       "  </thead>\n",
       "  <tbody>\n",
       "    <tr>\n",
       "      <th>0</th>\n",
       "      <td>1</td>\n",
       "      <td>برلين</td>\n",
       "      <td>بَرلِين</td>\n",
       "      <td>X</td>\n",
       "      <td>X---------</td>\n",
       "      <td>Foreign=Yes</td>\n",
       "      <td>2</td>\n",
       "      <td>nsubj</td>\n",
       "      <td>2:nsubj</td>\n",
       "      <td>Vform=بَرلِين|Gloss=Berlin|Root=barlIn|Transli...</td>\n",
       "    </tr>\n",
       "    <tr>\n",
       "      <th>1</th>\n",
       "      <td>2</td>\n",
       "      <td>ترفض</td>\n",
       "      <td>رَفَض</td>\n",
       "      <td>VERB</td>\n",
       "      <td>VIIA-3FS--</td>\n",
       "      <td>Aspect=Imp|Gender=Fem|Mood=Ind|Number=Sing|Per...</td>\n",
       "      <td>0</td>\n",
       "      <td>root</td>\n",
       "      <td>0:root</td>\n",
       "      <td>Vform=تَرفُضُ|Gloss=reject,refuse|Root=r_f_.d|...</td>\n",
       "    </tr>\n",
       "    <tr>\n",
       "      <th>2</th>\n",
       "      <td>3</td>\n",
       "      <td>حصول</td>\n",
       "      <td>حُصُول</td>\n",
       "      <td>NOUN</td>\n",
       "      <td>N------S4R</td>\n",
       "      <td>Case=Acc|Definite=Cons|Number=Sing</td>\n",
       "      <td>2</td>\n",
       "      <td>obj</td>\n",
       "      <td>2:obj</td>\n",
       "      <td>Vform=حُصُولَ|Gloss=acquisition,obtaining,occu...</td>\n",
       "    </tr>\n",
       "    <tr>\n",
       "      <th>3</th>\n",
       "      <td>4</td>\n",
       "      <td>شركة</td>\n",
       "      <td>شَرِكَة</td>\n",
       "      <td>NOUN</td>\n",
       "      <td>N------S2I</td>\n",
       "      <td>Case=Gen|Definite=Ind|Number=Sing</td>\n",
       "      <td>3</td>\n",
       "      <td>nmod</td>\n",
       "      <td>3:nmod:gen</td>\n",
       "      <td>Vform=شَرِكَةٍ|Gloss=company,corporation|Root=...</td>\n",
       "    </tr>\n",
       "    <tr>\n",
       "      <th>4</th>\n",
       "      <td>5</td>\n",
       "      <td>اميركية</td>\n",
       "      <td>أَمِيرِكِيّ</td>\n",
       "      <td>ADJ</td>\n",
       "      <td>A-----FS2I</td>\n",
       "      <td>Case=Gen|Definite=Ind|Gender=Fem|Number=Sing</td>\n",
       "      <td>4</td>\n",
       "      <td>amod</td>\n",
       "      <td>4:amod</td>\n",
       "      <td>Vform=أَمِيرِكِيَّةٍ|Gloss=American|Root='amIr...</td>\n",
       "    </tr>\n",
       "  </tbody>\n",
       "</table>\n",
       "</div>"
      ],
      "text/plain": [
       "  ID     FORM        LEMMA  UPOS        XPOS  \\\n",
       "0  1    برلين      بَرلِين     X  X---------   \n",
       "1  2     ترفض        رَفَض  VERB  VIIA-3FS--   \n",
       "2  3     حصول       حُصُول  NOUN  N------S4R   \n",
       "3  4     شركة      شَرِكَة  NOUN  N------S2I   \n",
       "4  5  اميركية  أَمِيرِكِيّ   ADJ  A-----FS2I   \n",
       "\n",
       "                                               FEATS HEAD DEPREL        DEPS  \\\n",
       "0                                        Foreign=Yes    2  nsubj     2:nsubj   \n",
       "1  Aspect=Imp|Gender=Fem|Mood=Ind|Number=Sing|Per...    0   root      0:root   \n",
       "2                 Case=Acc|Definite=Cons|Number=Sing    2    obj       2:obj   \n",
       "3                  Case=Gen|Definite=Ind|Number=Sing    3   nmod  3:nmod:gen   \n",
       "4       Case=Gen|Definite=Ind|Gender=Fem|Number=Sing    4   amod      4:amod   \n",
       "\n",
       "                                                MISC  \n",
       "0  Vform=بَرلِين|Gloss=Berlin|Root=barlIn|Transli...  \n",
       "1  Vform=تَرفُضُ|Gloss=reject,refuse|Root=r_f_.d|...  \n",
       "2  Vform=حُصُولَ|Gloss=acquisition,obtaining,occu...  \n",
       "3  Vform=شَرِكَةٍ|Gloss=company,corporation|Root=...  \n",
       "4  Vform=أَمِيرِكِيَّةٍ|Gloss=American|Root='amIr...  "
      ]
     },
     "execution_count": 5,
     "metadata": {},
     "output_type": "execute_result"
    }
   ],
   "source": [
    "# Print the DataFrame\n",
    "train_df.head()"
   ]
  },
  {
   "cell_type": "code",
   "execution_count": 6,
   "id": "80b67028",
   "metadata": {},
   "outputs": [
    {
     "name": "stdout",
     "output_type": "stream",
     "text": [
      "CSV file C:/Users/Mustafa Abdulnasser/Desktop/Task1/data/dev.csv generated successfully.\n"
     ]
    }
   ],
   "source": [
    "# Specify the path to your CoNLL-U file\n",
    "conllu_file_path = \"C:/Users/Mustafa Abdulnasser/Desktop/Task1/data/ar_padt-ud-dev.conllu\"\n",
    "\n",
    "# Specify the path to the output file\n",
    "output_file_path = \"C:/Users/Mustafa Abdulnasser/Desktop/Task1/data/dev.csv\"\n",
    "\n",
    "# Call conllu_to_dataframe to generate the CSV file from CoNLL-U\n",
    "val_df = processor.conllu_to_dataframe(conllu_file_path, output_file_path)"
   ]
  },
  {
   "cell_type": "code",
   "execution_count": 7,
   "id": "94ac1e86",
   "metadata": {},
   "outputs": [
    {
     "data": {
      "text/html": [
       "<div>\n",
       "<style scoped>\n",
       "    .dataframe tbody tr th:only-of-type {\n",
       "        vertical-align: middle;\n",
       "    }\n",
       "\n",
       "    .dataframe tbody tr th {\n",
       "        vertical-align: top;\n",
       "    }\n",
       "\n",
       "    .dataframe thead th {\n",
       "        text-align: right;\n",
       "    }\n",
       "</style>\n",
       "<table border=\"1\" class=\"dataframe\">\n",
       "  <thead>\n",
       "    <tr style=\"text-align: right;\">\n",
       "      <th></th>\n",
       "      <th>ID</th>\n",
       "      <th>FORM</th>\n",
       "      <th>LEMMA</th>\n",
       "      <th>UPOS</th>\n",
       "      <th>XPOS</th>\n",
       "      <th>FEATS</th>\n",
       "      <th>HEAD</th>\n",
       "      <th>DEPREL</th>\n",
       "      <th>DEPS</th>\n",
       "      <th>MISC</th>\n",
       "    </tr>\n",
       "  </thead>\n",
       "  <tbody>\n",
       "    <tr>\n",
       "      <th>0</th>\n",
       "      <td>1</td>\n",
       "      <td>ميراث</td>\n",
       "      <td>مِيرَاث</td>\n",
       "      <td>NOUN</td>\n",
       "      <td>N------S1I</td>\n",
       "      <td>Case=Nom|Definite=Ind|Number=Sing</td>\n",
       "      <td>6</td>\n",
       "      <td>nsubj</td>\n",
       "      <td>6:nsubj</td>\n",
       "      <td>Vform=مِيرَاثٌ|Gloss=inheritance,heritage|Root...</td>\n",
       "    </tr>\n",
       "    <tr>\n",
       "      <th>1</th>\n",
       "      <td>2</td>\n",
       "      <td>ب</td>\n",
       "      <td>بِ</td>\n",
       "      <td>ADP</td>\n",
       "      <td>P---------</td>\n",
       "      <td>AdpType=Prep</td>\n",
       "      <td>3</td>\n",
       "      <td>case</td>\n",
       "      <td>3:case</td>\n",
       "      <td>SpaceAfter=No|Vform=بِ|Gloss=by,with|Root=bi|T...</td>\n",
       "    </tr>\n",
       "    <tr>\n",
       "      <th>2</th>\n",
       "      <td>3</td>\n",
       "      <td>300</td>\n",
       "      <td>300</td>\n",
       "      <td>NUM</td>\n",
       "      <td>Q---------</td>\n",
       "      <td>NumForm=Digit</td>\n",
       "      <td>1</td>\n",
       "      <td>nummod</td>\n",
       "      <td>1:nummod</td>\n",
       "      <td>Vform=٣٠٠|Translit=300</td>\n",
       "    </tr>\n",
       "    <tr>\n",
       "      <th>3</th>\n",
       "      <td>4</td>\n",
       "      <td>الف</td>\n",
       "      <td>أَلف</td>\n",
       "      <td>NUM</td>\n",
       "      <td>QM-----S2R</td>\n",
       "      <td>Case=Gen|Definite=Cons|Number=Sing|NumForm=Word</td>\n",
       "      <td>3</td>\n",
       "      <td>nummod</td>\n",
       "      <td>3:nummod</td>\n",
       "      <td>Vform=أَلفِ|Gloss=thousand|Root='_l_f|Translit...</td>\n",
       "    </tr>\n",
       "    <tr>\n",
       "      <th>4</th>\n",
       "      <td>5</td>\n",
       "      <td>دولار</td>\n",
       "      <td>دُولَار</td>\n",
       "      <td>NOUN</td>\n",
       "      <td>N------S2I</td>\n",
       "      <td>Case=Gen|Definite=Ind|Number=Sing</td>\n",
       "      <td>4</td>\n",
       "      <td>nmod</td>\n",
       "      <td>4:nmod:gen</td>\n",
       "      <td>Vform=دُولَارٍ|Gloss=dollar|Root=dUlAr|Transli...</td>\n",
       "    </tr>\n",
       "  </tbody>\n",
       "</table>\n",
       "</div>"
      ],
      "text/plain": [
       "  ID   FORM    LEMMA  UPOS        XPOS  \\\n",
       "0  1  ميراث  مِيرَاث  NOUN  N------S1I   \n",
       "1  2      ب       بِ   ADP  P---------   \n",
       "2  3    300      300   NUM  Q---------   \n",
       "3  4    الف     أَلف   NUM  QM-----S2R   \n",
       "4  5  دولار  دُولَار  NOUN  N------S2I   \n",
       "\n",
       "                                             FEATS HEAD  DEPREL        DEPS  \\\n",
       "0                Case=Nom|Definite=Ind|Number=Sing    6   nsubj     6:nsubj   \n",
       "1                                     AdpType=Prep    3    case      3:case   \n",
       "2                                    NumForm=Digit    1  nummod    1:nummod   \n",
       "3  Case=Gen|Definite=Cons|Number=Sing|NumForm=Word    3  nummod    3:nummod   \n",
       "4                Case=Gen|Definite=Ind|Number=Sing    4    nmod  4:nmod:gen   \n",
       "\n",
       "                                                MISC  \n",
       "0  Vform=مِيرَاثٌ|Gloss=inheritance,heritage|Root...  \n",
       "1  SpaceAfter=No|Vform=بِ|Gloss=by,with|Root=bi|T...  \n",
       "2                             Vform=٣٠٠|Translit=300  \n",
       "3  Vform=أَلفِ|Gloss=thousand|Root='_l_f|Translit...  \n",
       "4  Vform=دُولَارٍ|Gloss=dollar|Root=dUlAr|Transli...  "
      ]
     },
     "execution_count": 7,
     "metadata": {},
     "output_type": "execute_result"
    }
   ],
   "source": [
    "# Print the DataFrame\n",
    "val_df.head()"
   ]
  },
  {
   "cell_type": "code",
   "execution_count": 8,
   "id": "1500e8c6",
   "metadata": {},
   "outputs": [
    {
     "name": "stdout",
     "output_type": "stream",
     "text": [
      "CSV file C:/Users/Mustafa Abdulnasser/Desktop/Task1/data/test.csv generated successfully.\n"
     ]
    }
   ],
   "source": [
    "# Specify the path to your CoNLL-U file\n",
    "conllu_file_path = \"C:/Users/Mustafa Abdulnasser/Desktop/Task1/data/ar_padt-ud-test.conllu\"\n",
    "\n",
    "# Specify the path to the output file\n",
    "output_file_path = \"C:/Users/Mustafa Abdulnasser/Desktop/Task1/data/test.csv\"\n",
    "\n",
    "# Call conllu_to_dataframe to generate the CSV file from CoNLL-U\n",
    "test_df = processor.conllu_to_dataframe(conllu_file_path, output_file_path)"
   ]
  },
  {
   "cell_type": "code",
   "execution_count": 9,
   "id": "0f8d361c",
   "metadata": {
    "scrolled": true
   },
   "outputs": [
    {
     "data": {
      "text/html": [
       "<div>\n",
       "<style scoped>\n",
       "    .dataframe tbody tr th:only-of-type {\n",
       "        vertical-align: middle;\n",
       "    }\n",
       "\n",
       "    .dataframe tbody tr th {\n",
       "        vertical-align: top;\n",
       "    }\n",
       "\n",
       "    .dataframe thead th {\n",
       "        text-align: right;\n",
       "    }\n",
       "</style>\n",
       "<table border=\"1\" class=\"dataframe\">\n",
       "  <thead>\n",
       "    <tr style=\"text-align: right;\">\n",
       "      <th></th>\n",
       "      <th>ID</th>\n",
       "      <th>FORM</th>\n",
       "      <th>LEMMA</th>\n",
       "      <th>UPOS</th>\n",
       "      <th>XPOS</th>\n",
       "      <th>FEATS</th>\n",
       "      <th>HEAD</th>\n",
       "      <th>DEPREL</th>\n",
       "      <th>DEPS</th>\n",
       "      <th>MISC</th>\n",
       "    </tr>\n",
       "  </thead>\n",
       "  <tbody>\n",
       "    <tr>\n",
       "      <th>0</th>\n",
       "      <td>1</td>\n",
       "      <td>سوريا</td>\n",
       "      <td>سُورِيَا</td>\n",
       "      <td>X</td>\n",
       "      <td>X---------</td>\n",
       "      <td>Foreign=Yes</td>\n",
       "      <td>0</td>\n",
       "      <td>root</td>\n",
       "      <td>0:root</td>\n",
       "      <td>SpaceAfter=No|Vform=سُورِيَا|Gloss=Syria|Root=...</td>\n",
       "    </tr>\n",
       "    <tr>\n",
       "      <th>1</th>\n",
       "      <td>2</td>\n",
       "      <td>:</td>\n",
       "      <td>:</td>\n",
       "      <td>PUNCT</td>\n",
       "      <td>G---------</td>\n",
       "      <td>_</td>\n",
       "      <td>1</td>\n",
       "      <td>punct</td>\n",
       "      <td>1:punct</td>\n",
       "      <td>Vform=:|Translit=:</td>\n",
       "    </tr>\n",
       "    <tr>\n",
       "      <th>2</th>\n",
       "      <td>3</td>\n",
       "      <td>تعديل</td>\n",
       "      <td>تَعدِيل</td>\n",
       "      <td>NOUN</td>\n",
       "      <td>N------S1I</td>\n",
       "      <td>Case=Nom|Definite=Ind|Number=Sing</td>\n",
       "      <td>6</td>\n",
       "      <td>nsubj</td>\n",
       "      <td>6:nsubj</td>\n",
       "      <td>Vform=تَعدِيلٌ|Gloss=adjustment,change,modific...</td>\n",
       "    </tr>\n",
       "    <tr>\n",
       "      <th>3</th>\n",
       "      <td>4</td>\n",
       "      <td>وزاري</td>\n",
       "      <td>وِزَارِيّ</td>\n",
       "      <td>ADJ</td>\n",
       "      <td>A-----MS1I</td>\n",
       "      <td>Case=Nom|Definite=Ind|Gender=Masc|Number=Sing</td>\n",
       "      <td>3</td>\n",
       "      <td>amod</td>\n",
       "      <td>3:amod</td>\n",
       "      <td>Vform=وِزَارِيٌّ|Gloss=ministry,ministerial|Ro...</td>\n",
       "    </tr>\n",
       "    <tr>\n",
       "      <th>4</th>\n",
       "      <td>5</td>\n",
       "      <td>واسع</td>\n",
       "      <td>وَاسِع</td>\n",
       "      <td>ADJ</td>\n",
       "      <td>A-----MS1I</td>\n",
       "      <td>Case=Nom|Definite=Ind|Gender=Masc|Number=Sing</td>\n",
       "      <td>3</td>\n",
       "      <td>amod</td>\n",
       "      <td>3:amod</td>\n",
       "      <td>Vform=وَاسِعٌ|Gloss=wide,extensive,broad|Root=...</td>\n",
       "    </tr>\n",
       "  </tbody>\n",
       "</table>\n",
       "</div>"
      ],
      "text/plain": [
       "  ID   FORM      LEMMA   UPOS        XPOS  \\\n",
       "0  1  سوريا   سُورِيَا      X  X---------   \n",
       "1  2      :          :  PUNCT  G---------   \n",
       "2  3  تعديل    تَعدِيل   NOUN  N------S1I   \n",
       "3  4  وزاري  وِزَارِيّ    ADJ  A-----MS1I   \n",
       "4  5   واسع     وَاسِع    ADJ  A-----MS1I   \n",
       "\n",
       "                                           FEATS HEAD DEPREL     DEPS  \\\n",
       "0                                    Foreign=Yes    0   root   0:root   \n",
       "1                                              _    1  punct  1:punct   \n",
       "2              Case=Nom|Definite=Ind|Number=Sing    6  nsubj  6:nsubj   \n",
       "3  Case=Nom|Definite=Ind|Gender=Masc|Number=Sing    3   amod   3:amod   \n",
       "4  Case=Nom|Definite=Ind|Gender=Masc|Number=Sing    3   amod   3:amod   \n",
       "\n",
       "                                                MISC  \n",
       "0  SpaceAfter=No|Vform=سُورِيَا|Gloss=Syria|Root=...  \n",
       "1                                 Vform=:|Translit=:  \n",
       "2  Vform=تَعدِيلٌ|Gloss=adjustment,change,modific...  \n",
       "3  Vform=وِزَارِيٌّ|Gloss=ministry,ministerial|Ro...  \n",
       "4  Vform=وَاسِعٌ|Gloss=wide,extensive,broad|Root=...  "
      ]
     },
     "execution_count": 9,
     "metadata": {},
     "output_type": "execute_result"
    }
   ],
   "source": [
    "# Print the DataFrame\n",
    "test_df.head()"
   ]
  },
  {
   "cell_type": "markdown",
   "id": "b09f0027",
   "metadata": {},
   "source": [
    "## Step 3 : Data Cleaning and Pre-processing"
   ]
  },
  {
   "cell_type": "markdown",
   "id": "57a6f695",
   "metadata": {},
   "source": [
    "### Step 3-1 : Data Filtering"
   ]
  },
  {
   "cell_type": "code",
   "execution_count": 10,
   "id": "cb4714e8",
   "metadata": {},
   "outputs": [],
   "source": [
    "# Call process_dataframe to perform additional processing and filtering on training dataframe\n",
    "train_df_filtered = processor.process_dataframe(train_df)"
   ]
  },
  {
   "cell_type": "code",
   "execution_count": 11,
   "id": "b0f4d841",
   "metadata": {},
   "outputs": [
    {
     "data": {
      "text/html": [
       "<div>\n",
       "<style scoped>\n",
       "    .dataframe tbody tr th:only-of-type {\n",
       "        vertical-align: middle;\n",
       "    }\n",
       "\n",
       "    .dataframe tbody tr th {\n",
       "        vertical-align: top;\n",
       "    }\n",
       "\n",
       "    .dataframe thead th {\n",
       "        text-align: right;\n",
       "    }\n",
       "</style>\n",
       "<table border=\"1\" class=\"dataframe\">\n",
       "  <thead>\n",
       "    <tr style=\"text-align: right;\">\n",
       "      <th></th>\n",
       "      <th>ID</th>\n",
       "      <th>FORM</th>\n",
       "      <th>UPOS</th>\n",
       "    </tr>\n",
       "  </thead>\n",
       "  <tbody>\n",
       "    <tr>\n",
       "      <th>0</th>\n",
       "      <td>1</td>\n",
       "      <td>برلين</td>\n",
       "      <td>X</td>\n",
       "    </tr>\n",
       "    <tr>\n",
       "      <th>1</th>\n",
       "      <td>2</td>\n",
       "      <td>ترفض</td>\n",
       "      <td>VERB</td>\n",
       "    </tr>\n",
       "    <tr>\n",
       "      <th>2</th>\n",
       "      <td>3</td>\n",
       "      <td>حصول</td>\n",
       "      <td>NOUN</td>\n",
       "    </tr>\n",
       "    <tr>\n",
       "      <th>3</th>\n",
       "      <td>4</td>\n",
       "      <td>شركة</td>\n",
       "      <td>NOUN</td>\n",
       "    </tr>\n",
       "    <tr>\n",
       "      <th>4</th>\n",
       "      <td>5</td>\n",
       "      <td>اميركية</td>\n",
       "      <td>ADJ</td>\n",
       "    </tr>\n",
       "    <tr>\n",
       "      <th>...</th>\n",
       "      <td>...</td>\n",
       "      <td>...</td>\n",
       "      <td>...</td>\n",
       "    </tr>\n",
       "    <tr>\n",
       "      <th>223795</th>\n",
       "      <td>16</td>\n",
       "      <td>الاسراع</td>\n",
       "      <td>X</td>\n",
       "    </tr>\n",
       "    <tr>\n",
       "      <th>223796</th>\n",
       "      <td>17</td>\n",
       "      <td>فى</td>\n",
       "      <td>ADP</td>\n",
       "    </tr>\n",
       "    <tr>\n",
       "      <th>223797</th>\n",
       "      <td>18</td>\n",
       "      <td>تنفيذ</td>\n",
       "      <td>NOUN</td>\n",
       "    </tr>\n",
       "    <tr>\n",
       "      <th>223798</th>\n",
       "      <td>19</td>\n",
       "      <td>ها</td>\n",
       "      <td>PRON</td>\n",
       "    </tr>\n",
       "    <tr>\n",
       "      <th>223799</th>\n",
       "      <td>20</td>\n",
       "      <td>على</td>\n",
       "      <td>ADP</td>\n",
       "    </tr>\n",
       "  </tbody>\n",
       "</table>\n",
       "<p>223800 rows × 3 columns</p>\n",
       "</div>"
      ],
      "text/plain": [
       "        ID     FORM  UPOS\n",
       "0        1    برلين     X\n",
       "1        2     ترفض  VERB\n",
       "2        3     حصول  NOUN\n",
       "3        4     شركة  NOUN\n",
       "4        5  اميركية   ADJ\n",
       "...     ..      ...   ...\n",
       "223795  16  الاسراع     X\n",
       "223796  17       فى   ADP\n",
       "223797  18    تنفيذ  NOUN\n",
       "223798  19       ها  PRON\n",
       "223799  20      على   ADP\n",
       "\n",
       "[223800 rows x 3 columns]"
      ]
     },
     "execution_count": 11,
     "metadata": {},
     "output_type": "execute_result"
    }
   ],
   "source": [
    "# Print the filtered training dataframe\n",
    "train_df_filtered"
   ]
  },
  {
   "cell_type": "code",
   "execution_count": 12,
   "id": "b65cf980",
   "metadata": {},
   "outputs": [
    {
     "data": {
      "text/plain": [
       "NOUN     74519\n",
       "ADP      33606\n",
       "ADJ      23485\n",
       "PUNCT    17506\n",
       "VERB     16786\n",
       "CCONJ    15799\n",
       "X        13740\n",
       "PRON      8531\n",
       "NUM       6010\n",
       "DET       4648\n",
       "SCONJ     4366\n",
       "PART      1709\n",
       "AUX       1699\n",
       "ADV        880\n",
       "SYM        329\n",
       "PROPN      187\n",
       "Name: UPOS, dtype: int64"
      ]
     },
     "execution_count": 12,
     "metadata": {},
     "output_type": "execute_result"
    }
   ],
   "source": [
    "# Display the count of unique values in the 'UPOS' column of the filtered training DataFrame\n",
    "train_df_filtered['UPOS'].value_counts()"
   ]
  },
  {
   "cell_type": "code",
   "execution_count": 13,
   "id": "3d14943e",
   "metadata": {},
   "outputs": [],
   "source": [
    "# Call process_dataframe to perform additional processing and filtering on validation dataframe\n",
    "val_df_filtered = processor.process_dataframe(val_df)"
   ]
  },
  {
   "cell_type": "code",
   "execution_count": 14,
   "id": "09ed8304",
   "metadata": {},
   "outputs": [
    {
     "data": {
      "text/html": [
       "<div>\n",
       "<style scoped>\n",
       "    .dataframe tbody tr th:only-of-type {\n",
       "        vertical-align: middle;\n",
       "    }\n",
       "\n",
       "    .dataframe tbody tr th {\n",
       "        vertical-align: top;\n",
       "    }\n",
       "\n",
       "    .dataframe thead th {\n",
       "        text-align: right;\n",
       "    }\n",
       "</style>\n",
       "<table border=\"1\" class=\"dataframe\">\n",
       "  <thead>\n",
       "    <tr style=\"text-align: right;\">\n",
       "      <th></th>\n",
       "      <th>ID</th>\n",
       "      <th>FORM</th>\n",
       "      <th>UPOS</th>\n",
       "    </tr>\n",
       "  </thead>\n",
       "  <tbody>\n",
       "    <tr>\n",
       "      <th>0</th>\n",
       "      <td>1</td>\n",
       "      <td>ميراث</td>\n",
       "      <td>NOUN</td>\n",
       "    </tr>\n",
       "    <tr>\n",
       "      <th>1</th>\n",
       "      <td>2</td>\n",
       "      <td>ب</td>\n",
       "      <td>ADP</td>\n",
       "    </tr>\n",
       "    <tr>\n",
       "      <th>2</th>\n",
       "      <td>3</td>\n",
       "      <td>300</td>\n",
       "      <td>NUM</td>\n",
       "    </tr>\n",
       "    <tr>\n",
       "      <th>3</th>\n",
       "      <td>4</td>\n",
       "      <td>الف</td>\n",
       "      <td>NUM</td>\n",
       "    </tr>\n",
       "    <tr>\n",
       "      <th>4</th>\n",
       "      <td>5</td>\n",
       "      <td>دولار</td>\n",
       "      <td>NOUN</td>\n",
       "    </tr>\n",
       "    <tr>\n",
       "      <th>...</th>\n",
       "      <td>...</td>\n",
       "      <td>...</td>\n",
       "      <td>...</td>\n",
       "    </tr>\n",
       "    <tr>\n",
       "      <th>30170</th>\n",
       "      <td>3</td>\n",
       "      <td>متى</td>\n",
       "      <td>DET</td>\n",
       "    </tr>\n",
       "    <tr>\n",
       "      <th>30171</th>\n",
       "      <td>4</td>\n",
       "      <td>س</td>\n",
       "      <td>AUX</td>\n",
       "    </tr>\n",
       "    <tr>\n",
       "      <th>30172</th>\n",
       "      <td>5</td>\n",
       "      <td>يتم</td>\n",
       "      <td>VERB</td>\n",
       "    </tr>\n",
       "    <tr>\n",
       "      <th>30173</th>\n",
       "      <td>6</td>\n",
       "      <td>تسليم</td>\n",
       "      <td>NOUN</td>\n",
       "    </tr>\n",
       "    <tr>\n",
       "      <th>30174</th>\n",
       "      <td>7</td>\n",
       "      <td>هم</td>\n",
       "      <td>PRON</td>\n",
       "    </tr>\n",
       "  </tbody>\n",
       "</table>\n",
       "<p>30175 rows × 3 columns</p>\n",
       "</div>"
      ],
      "text/plain": [
       "      ID   FORM  UPOS\n",
       "0      1  ميراث  NOUN\n",
       "1      2      ب   ADP\n",
       "2      3    300   NUM\n",
       "3      4    الف   NUM\n",
       "4      5  دولار  NOUN\n",
       "...   ..    ...   ...\n",
       "30170  3    متى   DET\n",
       "30171  4      س   AUX\n",
       "30172  5    يتم  VERB\n",
       "30173  6  تسليم  NOUN\n",
       "30174  7     هم  PRON\n",
       "\n",
       "[30175 rows x 3 columns]"
      ]
     },
     "execution_count": 14,
     "metadata": {},
     "output_type": "execute_result"
    }
   ],
   "source": [
    "# Print the filtered validation dataframe\n",
    "val_df_filtered"
   ]
  },
  {
   "cell_type": "code",
   "execution_count": 15,
   "id": "47ae2993",
   "metadata": {},
   "outputs": [
    {
     "data": {
      "text/plain": [
       "NOUN     9597\n",
       "ADP      4401\n",
       "ADJ      2911\n",
       "PUNCT    2874\n",
       "VERB     2314\n",
       "X        2036\n",
       "CCONJ    2012\n",
       "PRON     1206\n",
       "NUM       967\n",
       "DET       624\n",
       "SCONJ     555\n",
       "PART      270\n",
       "AUX       257\n",
       "ADV       108\n",
       "PROPN      25\n",
       "SYM        18\n",
       "Name: UPOS, dtype: int64"
      ]
     },
     "execution_count": 15,
     "metadata": {},
     "output_type": "execute_result"
    }
   ],
   "source": [
    "# Display the count of unique values in the 'UPOS' column of the filtered validation DataFrame\n",
    "val_df_filtered['UPOS'].value_counts()"
   ]
  },
  {
   "cell_type": "code",
   "execution_count": 16,
   "id": "86ac4046",
   "metadata": {},
   "outputs": [],
   "source": [
    "# Call process_dataframe to perform additional processing and filtering on testing dataframe\n",
    "test_df_filtered = processor.process_dataframe(test_df)"
   ]
  },
  {
   "cell_type": "code",
   "execution_count": 17,
   "id": "c646b543",
   "metadata": {},
   "outputs": [
    {
     "data": {
      "text/plain": [
       "NOUN     9522\n",
       "ADP      4514\n",
       "ADJ      2931\n",
       "VERB     2184\n",
       "PUNCT    2047\n",
       "CCONJ    1958\n",
       "X        1368\n",
       "PRON     1131\n",
       "NUM       778\n",
       "DET       622\n",
       "SCONJ     534\n",
       "PART      226\n",
       "AUX       196\n",
       "ADV       104\n",
       "SYM        41\n",
       "PROPN      31\n",
       "Name: UPOS, dtype: int64"
      ]
     },
     "execution_count": 17,
     "metadata": {},
     "output_type": "execute_result"
    }
   ],
   "source": [
    "# Display the count of unique values in the 'UPOS' column of the filtered testing DataFrame\n",
    "test_df_filtered['UPOS'].value_counts()"
   ]
  },
  {
   "cell_type": "markdown",
   "id": "69ed90f6",
   "metadata": {},
   "source": [
    "### Step 3-2 : Collate sentences "
   ]
  },
  {
   "cell_type": "code",
   "execution_count": 18,
   "id": "10e4b4e9",
   "metadata": {},
   "outputs": [],
   "source": [
    "# Call collate_samples to generate batches from train_df_filtered\n",
    "train_text, train_tags = processor.collate_samples(train_df_filtered)"
   ]
  },
  {
   "cell_type": "code",
   "execution_count": 19,
   "id": "be028360",
   "metadata": {},
   "outputs": [
    {
     "name": "stdout",
     "output_type": "stream",
     "text": [
      "sample X:  ['برلين', 'ترفض', 'حصول', 'شركة', 'اميركية', 'على', 'رخصة', 'تصنيع', 'دبابة', '\"', 'ليوبارد', '\"', 'الالمانية'] \n",
      "\n",
      "sample Y:  ['ADJ', 'PUNCT', 'X', 'PUNCT', 'NOUN', 'NOUN', 'NOUN', 'ADP', 'ADJ', 'NOUN', 'NOUN', 'VERB', 'X'] \n",
      "\n"
     ]
    }
   ],
   "source": [
    "# let's look at first data point\n",
    "# this is one data point that will be fed to the RNN\n",
    "print('sample X: ', train_text[0], '\\n')\n",
    "print('sample Y: ', train_tags[0][::-1], '\\n')"
   ]
  },
  {
   "cell_type": "code",
   "execution_count": 20,
   "id": "6f299545",
   "metadata": {},
   "outputs": [
    {
     "name": "stdout",
     "output_type": "stream",
     "text": [
      "Length of first input sequence  : 13\n",
      "Length of first output sequence : 13\n"
     ]
    }
   ],
   "source": [
    "# In this many-to-many problem, the length of each input and output sequence must be the same.\n",
    "# Since each word is tagged, it's important to make sure that the length of input sequence equals the output sequence\n",
    "print(\"Length of first input sequence  : {}\".format(len(train_text[0])))\n",
    "print(\"Length of first output sequence : {}\".format(len(train_tags[0])))"
   ]
  },
  {
   "cell_type": "code",
   "execution_count": 21,
   "id": "f6a942e8",
   "metadata": {},
   "outputs": [],
   "source": [
    "# Call collate_samples to generate batches from val_df_filtered\n",
    "val_text, val_tags = processor.collate_samples(val_df_filtered)"
   ]
  },
  {
   "cell_type": "code",
   "execution_count": 22,
   "id": "ea066ad0",
   "metadata": {},
   "outputs": [],
   "source": [
    "# Call collate_samples to generate batches from test_df_filtered\n",
    "test_text, test_tags = processor.collate_samples(test_df_filtered)"
   ]
  },
  {
   "cell_type": "code",
   "execution_count": 23,
   "id": "ea534d78",
   "metadata": {},
   "outputs": [
    {
     "name": "stdout",
     "output_type": "stream",
     "text": [
      "** Train set ** \n",
      " ---------------------------------------------------------------------------------------------------- \n",
      "\n",
      "Text length = 6073, Tags length = 6073 \n",
      "\n",
      "** Validation set ** \n",
      " ---------------------------------------------------------------------------------------------------- \n",
      "\n",
      "Text length = 906, Tags length = 906 \n",
      "\n",
      "** Test set ** \n",
      " ---------------------------------------------------------------------------------------------------- \n",
      "\n",
      "Text length = 678, Tags length = 678 \n",
      "\n"
     ]
    }
   ],
   "source": [
    "# For train set\n",
    "print(\"** Train set **\", \"\\n\", \"-\"*100, \"\\n\")\n",
    "print(f\"Text length = {len(train_text)}, Tags length = {len(train_tags)}\", \"\\n\")\n",
    "\n",
    "# For validation set\n",
    "print(\"** Validation set **\", \"\\n\", \"-\"*100, \"\\n\")\n",
    "print(f\"Text length = {len(val_text)}, Tags length = {len(val_tags)}\", \"\\n\")\n",
    "\n",
    "# For test set\n",
    "print(\"** Test set **\", \"\\n\", \"-\"*100, \"\\n\")\n",
    "print(f\"Text length = {len(test_text)}, Tags length = {len(test_tags)}\", \"\\n\")"
   ]
  },
  {
   "cell_type": "markdown",
   "id": "11be4566",
   "metadata": {},
   "source": [
    "### Step 3-3 : Tokenization "
   ]
  },
  {
   "cell_type": "code",
   "execution_count": 24,
   "id": "eef7bbd6",
   "metadata": {},
   "outputs": [],
   "source": [
    "# Step 1: Define the out-of-vocabulary token\n",
    "oov_tok = \"<OOV>\"\n",
    "\n",
    "# Step 2: Fit tokenizer on training set\n",
    "word_tokenizer = Tokenizer(oov_token = oov_tok)\n",
    "word_tokenizer.fit_on_texts(train_text)\n",
    "\n",
    "# Step 3: Apply fitted tokenizer to train, validation and test sets\n",
    "train_text_encodded = word_tokenizer.texts_to_sequences(train_text)\n",
    "val_text_encodded = word_tokenizer.texts_to_sequences(val_text)\n",
    "test_text_encodded = word_tokenizer.texts_to_sequences(test_text)"
   ]
  },
  {
   "cell_type": "code",
   "execution_count": 25,
   "id": "41e81050",
   "metadata": {},
   "outputs": [],
   "source": [
    "# Step 1: Fit tokenizer on training set\n",
    "tag_tokenizer = Tokenizer()\n",
    "tag_tokenizer.fit_on_texts(train_tags)\n",
    "\n",
    "# Step 3: Apply fitted tokenizer to train, validation and test sets\n",
    "train_tags_encodded = tag_tokenizer.texts_to_sequences(train_tags)\n",
    "val_tags_encodded   = tag_tokenizer.texts_to_sequences(val_tags)\n",
    "test_tags_encodded  = tag_tokenizer.texts_to_sequences(test_tags)"
   ]
  },
  {
   "cell_type": "code",
   "execution_count": 26,
   "id": "6909cee6",
   "metadata": {},
   "outputs": [
    {
     "name": "stdout",
     "output_type": "stream",
     "text": [
      "** Raw data point ** \n",
      " ---------------------------------------------------------------------------------------------------- \n",
      "\n",
      "X:  ['برلين', 'ترفض', 'حصول', 'شركة', 'اميركية', 'على', 'رخصة', 'تصنيع', 'دبابة', '\"', 'ليوبارد', '\"', 'الالمانية'] \n",
      "\n",
      "Y:  ['ADJ', 'PUNCT', 'X', 'PUNCT', 'NOUN', 'NOUN', 'NOUN', 'ADP', 'ADJ', 'NOUN', 'NOUN', 'VERB', 'X'] \n",
      "\n",
      "\n",
      "** Encoded data point ** \n",
      " ---------------------------------------------------------------------------------------------------- \n",
      "\n",
      "X:  [3268, 2174, 948, 87, 2035, 12, 3269, 1681, 3641, 10, 4109, 10, 1576] \n",
      "\n",
      "Y:  [7, 5, 1, 1, 3, 2, 1, 1, 1, 4, 7, 4, 3] \n",
      "\n"
     ]
    }
   ],
   "source": [
    "# look at first encoded data point\n",
    "\n",
    "print(\"** Raw data point **\", \"\\n\", \"-\"*100, \"\\n\")\n",
    "print('X: ', train_text[0], '\\n')\n",
    "print('Y: ', train_tags[0][::-1], '\\n')\n",
    "print()\n",
    "print(\"** Encoded data point **\", \"\\n\", \"-\"*100, \"\\n\")\n",
    "print('X: ', train_text_encodded[0], '\\n')\n",
    "print('Y: ', train_tags_encodded[0], '\\n')"
   ]
  },
  {
   "cell_type": "code",
   "execution_count": 27,
   "id": "26cf706e",
   "metadata": {},
   "outputs": [
    {
     "name": "stdout",
     "output_type": "stream",
     "text": [
      "0 sentences have disparate input-output lengths.\n"
     ]
    }
   ],
   "source": [
    "# make sure that each sequence of input and output is same length\n",
    "\n",
    "different_length = [1 if len(input) != len(output) else 0 for input, output in zip(train_text_encodded, train_tags_encodded)]\n",
    "print(\"{} sentences have disparate input-output lengths.\".format(sum(different_length)))"
   ]
  },
  {
   "cell_type": "markdown",
   "id": "135dfef7",
   "metadata": {},
   "source": [
    "### Step 3-4 : Padding"
   ]
  },
  {
   "cell_type": "code",
   "execution_count": 28,
   "id": "1b1fc1ea",
   "metadata": {},
   "outputs": [
    {
     "name": "stdout",
     "output_type": "stream",
     "text": [
      "Length of longest sentence: 398\n"
     ]
    }
   ],
   "source": [
    "# check length of longest sentence\n",
    "lengths = [len(seq) for seq in train_text_encodded]\n",
    "print(\"Length of longest sentence: {}\".format(max(lengths)))"
   ]
  },
  {
   "cell_type": "code",
   "execution_count": 29,
   "id": "c207402d",
   "metadata": {},
   "outputs": [
    {
     "data": {
      "image/png": "[encoded data removed]",
      "text/plain": [
       "<Figure size 640x480 with 1 Axes>"
      ]
     },
     "metadata": {},
     "output_type": "display_data"
    }
   ],
   "source": [
    "# Create a boxplot to visualize the distribution of 'lengths' using Seaborn\n",
    "sns.boxplot(lengths)\n",
    "plt.show()"
   ]
  },
  {
   "cell_type": "code",
   "execution_count": 30,
   "id": "82017d20",
   "metadata": {},
   "outputs": [],
   "source": [
    "# Sentences longer than MAX_SEQ_LENGTH are truncated.\n",
    "# Sentences shorter than MAX_SEQ_LENGTH are padded with zeroes.\n",
    "\n",
    "# Truncation and padding can either be 'pre' or 'post'. \n",
    "# For padding we are using 'post' padding type, that is, add zeroes on the right side.\n",
    "# For truncation, we are using 'post', that is, truncate a sentence from right side.\n",
    "\n",
    "MAX_SEQ_LENGTH = 100  # sequences greater than 100 in length will be truncated\n",
    "PADDING = \"post\"\n",
    "TRUNCATING = \"post\""
   ]
  },
  {
   "cell_type": "code",
   "execution_count": 31,
   "id": "adf7f33e",
   "metadata": {},
   "outputs": [],
   "source": [
    "# Pad sequences for training text and tags\n",
    "train_text_padded = pad_sequences(train_text_encodded, maxlen = MAX_SEQ_LENGTH, padding = PADDING, truncating = TRUNCATING)\n",
    "train_tags_padded = pad_sequences(train_tags_encodded, maxlen = MAX_SEQ_LENGTH, padding = PADDING, truncating = TRUNCATING)"
   ]
  },
  {
   "cell_type": "code",
   "execution_count": 32,
   "id": "5ce0351e",
   "metadata": {},
   "outputs": [
    {
     "name": "stdout",
     "output_type": "stream",
     "text": [
      "[3268 2174  948   87 2035   12 3269 1681 3641   10 4109   10 1576    0\n",
      "    0    0    0    0    0    0    0    0    0    0    0    0    0    0\n",
      "    0    0    0    0    0    0    0    0    0    0    0    0    0    0\n",
      "    0    0    0    0    0    0    0    0    0    0    0    0    0    0\n",
      "    0    0    0    0    0    0    0    0    0    0    0    0    0    0\n",
      "    0    0    0    0    0    0    0    0    0    0    0    0    0    0\n",
      "    0    0    0    0    0    0    0    0    0    0    0    0    0    0\n",
      "    0    0] \n",
      "\n",
      "\n",
      "[7 5 1 1 3 2 1 1 1 4 7 4 3 0 0 0 0 0 0 0 0 0 0 0 0 0 0 0 0 0 0 0 0 0 0 0 0\n",
      " 0 0 0 0 0 0 0 0 0 0 0 0 0 0 0 0 0 0 0 0 0 0 0 0 0 0 0 0 0 0 0 0 0 0 0 0 0\n",
      " 0 0 0 0 0 0 0 0 0 0 0 0 0 0 0 0 0 0 0 0 0 0 0 0 0 0]\n"
     ]
    }
   ],
   "source": [
    "# print the first sequence\n",
    "print(train_text_padded[0], \"\\n\"*2)\n",
    "print(train_tags_padded[0])"
   ]
  },
  {
   "cell_type": "code",
   "execution_count": 33,
   "id": "471f3aac",
   "metadata": {},
   "outputs": [],
   "source": [
    "# Pad sequences for validation text and tags\n",
    "val_text_padded = pad_sequences(val_text_encodded, maxlen = MAX_SEQ_LENGTH, padding = PADDING, truncating = TRUNCATING)\n",
    "val_tags_padded = pad_sequences(val_tags_encodded, maxlen = MAX_SEQ_LENGTH, padding = PADDING, truncating = TRUNCATING)"
   ]
  },
  {
   "cell_type": "code",
   "execution_count": 34,
   "id": "be76bc53",
   "metadata": {},
   "outputs": [],
   "source": [
    "# Pad sequences for testing text and tags\n",
    "test_text_padded = pad_sequences(test_text_encodded, maxlen = MAX_SEQ_LENGTH, padding = PADDING, truncating = TRUNCATING)\n",
    "test_tags_padded = pad_sequences(test_tags_encodded, maxlen = MAX_SEQ_LENGTH, padding = PADDING, truncating = TRUNCATING)"
   ]
  },
  {
   "cell_type": "markdown",
   "id": "86997743",
   "metadata": {},
   "source": [
    "## Step 4 : Word embeddings From Aravec"
   ]
  },
  {
   "cell_type": "markdown",
   "id": "cac4d56c",
   "metadata": {},
   "source": [
    "Word embeddings are a type of word representation that allows words with similar meaning to have a similar representation. So we used an embedding matrix from Aravec, short for \"Arabic Word Embeddings,\" refers to pre-trained word embeddings specifically designed for the Arabic language. Word embeddings are dense vector representations of words in a continuous vector space, capturing semantic relationships between words. Aravec models are trained on large Arabic text corpora."
   ]
  },
  {
   "cell_type": "code",
   "execution_count": 35,
   "id": "14a37407",
   "metadata": {},
   "outputs": [],
   "source": [
    "# Create an instance of EmbeddingProcessing for handling word embeddings\n",
    "embedding_processor = EmbeddingProcessing()"
   ]
  },
  {
   "cell_type": "code",
   "execution_count": 36,
   "id": "b9d5e82e",
   "metadata": {},
   "outputs": [],
   "source": [
    "# Load the Aravec model\n",
    "embedding_processor.load_embedding_model('C:/Users/Mustafa Abdulnasser/Desktop/Task1/pre-trained models/Aravec/full_grams_cbow_300_twitter.mdl')"
   ]
  },
  {
   "cell_type": "code",
   "execution_count": 37,
   "id": "e32a23a1",
   "metadata": {},
   "outputs": [],
   "source": [
    "# Create embeddings and get the weights matrix\n",
    "embeddings_weights_matrix = embedding_processor.create_embeddings(word_tokenizer)"
   ]
  },
  {
   "cell_type": "code",
   "execution_count": 38,
   "id": "73c8e360",
   "metadata": {},
   "outputs": [
    {
     "name": "stdout",
     "output_type": "stream",
     "text": [
      "Embeddings shape: (21912, 300)\n"
     ]
    }
   ],
   "source": [
    "# check embedding dimension\n",
    "print(\"Embeddings shape: {}\".format(embeddings_weights_matrix.shape))"
   ]
  },
  {
   "cell_type": "code",
   "execution_count": 39,
   "id": "5c77d2ae",
   "metadata": {},
   "outputs": [
    {
     "data": {
      "text/plain": [
       "array([-0.44167799, -0.12264249, -0.83759761,  0.74162811,  0.14888309,\n",
       "        1.6253283 , -0.08094976,  0.9875744 ,  2.09851813, -0.57073832,\n",
       "        0.25962695, -0.18513481,  1.66615903, -1.89694452,  1.73901367,\n",
       "       -2.13350272, -1.36926341,  0.12772602,  0.03725654,  2.28725553,\n",
       "       -0.42084751,  1.07584512, -0.03384755,  2.1100378 , -0.50779694,\n",
       "       -0.09196451,  0.51976299, -0.87050188, -1.57642865, -0.83160627,\n",
       "        0.39785618,  1.29374361,  0.51660836, -1.27360678, -2.78768468,\n",
       "        0.70043164,  0.67396247, -1.10744011,  0.33184752,  0.64798385,\n",
       "       -0.26200843, -0.86442125, -1.02560961, -0.2807537 , -0.89266711,\n",
       "       -0.04493473,  0.65678018, -1.05219662, -0.43776372, -0.22610559,\n",
       "        0.51528615,  2.85615706, -0.53063774, -0.16158924,  1.39316475,\n",
       "       -1.392156  , -0.89056009, -0.57549548, -0.38506714, -0.78499866,\n",
       "        0.67320281, -0.70221192, -0.34168112, -0.852741  ,  0.22764838,\n",
       "        1.85714209, -0.85544926,  0.64074004, -0.39517245,  0.32942069,\n",
       "       -0.78349864,  0.30220044, -0.61983013,  1.61161315, -2.85484529,\n",
       "       -2.13073587, -1.52043819, -0.59041309, -0.00790455,  0.76851052,\n",
       "        0.447835  ,  2.76436591, -2.69603562,  0.92144376, -1.56918609,\n",
       "        1.06714296,  1.88035977, -0.15377308, -0.23302379,  1.8224467 ,\n",
       "       -0.90785116,  2.04815817,  1.32337785, -0.29931661, -0.70531827,\n",
       "       -2.05927324,  0.75726295, -1.3393681 , -1.30104339, -0.02709294,\n",
       "        0.97765702, -0.53755844, -0.64806432,  0.45722526,  0.34771496,\n",
       "       -0.49693355,  0.94679713,  1.17175329,  0.55878383, -0.33326131,\n",
       "        0.51489627, -1.84456646, -1.25313747,  0.57353514,  0.04521454,\n",
       "        0.48454723,  0.32033676, -0.98483837,  1.62035584,  0.6233713 ,\n",
       "       -0.30895799, -1.25000226,  2.29859877, -0.41361672,  0.32256141,\n",
       "       -1.06489313,  0.21193027,  0.24424107,  0.42961332,  1.25668979,\n",
       "       -1.48090851, -3.14520788, -0.11737247, -0.98952103, -0.26517239,\n",
       "       -0.5271312 ,  1.01236463, -2.11457109,  1.34179783,  0.59376961,\n",
       "       -3.00233817, -0.09686694,  0.25060651,  0.72126913,  0.17908135,\n",
       "       -2.21823001,  0.10680705,  1.77955949,  0.77946079,  0.14927147,\n",
       "        1.15129089, -0.11008823, -0.12804238,  1.1787622 ,  0.70941299,\n",
       "       -0.57661229,  1.82865691,  0.46808767,  1.64314997,  1.26100647,\n",
       "       -0.77593797,  0.36101025,  0.60391688, -0.25250474,  1.54062438,\n",
       "        1.70651972,  1.52471888,  1.27453339,  1.22279739,  1.85567749,\n",
       "       -0.06830475,  0.339304  ,  0.60039306, -0.27953038,  3.08197212,\n",
       "        0.06957871,  2.75529838,  0.09006596,  0.82099712, -1.46703744,\n",
       "       -1.22133172,  1.31012034, -1.52352846, -1.37913382, -0.28336668,\n",
       "        1.0830723 ,  0.03886678,  0.5751707 , -2.33755803, -1.78237259,\n",
       "       -1.42495477, -0.86191446,  0.15695748,  0.75125539, -1.28540969,\n",
       "        0.07572677,  0.04063937, -2.48968101, -0.24290605,  0.60073495,\n",
       "        0.06653192, -1.00039876,  0.08087651, -2.28363562,  0.59459913,\n",
       "        0.44807369, -0.73709399, -0.29261672, -1.7186079 , -0.68232226,\n",
       "       -0.17350765,  1.27296042,  0.78671348, -0.9594419 ,  0.76843154,\n",
       "        0.35873634, -1.66909194, -0.29558676, -0.31758854,  2.95488   ,\n",
       "        0.15818255, -0.32999849, -1.89335096, -3.38605285, -1.85338008,\n",
       "       -1.51021612,  2.46405435, -1.21201086, -0.34181708, -0.71487057,\n",
       "        0.18087009,  0.69290841,  0.71539462,  0.41271138, -0.96703112,\n",
       "        0.06934838, -3.44997191, -1.44982481,  0.33623949, -0.34280464,\n",
       "        0.43002364, -1.18657923, -0.23803751, -0.12658955,  0.7140801 ,\n",
       "       -0.10559095, -0.4823764 ,  1.76857281,  0.57936829,  0.61692727,\n",
       "       -0.82542962, -0.40097973, -0.57022309,  0.00754393, -0.91456729,\n",
       "        0.6524561 ,  1.23061466,  0.20423082, -0.20496836, -1.54423535,\n",
       "       -1.17541921,  1.72966468,  1.32379305, -0.07554644, -1.70775902,\n",
       "        1.05841506, -1.24101424, -0.26216403,  1.28828442,  0.00786676,\n",
       "       -0.81399792,  0.08360613, -0.66624254,  0.13669553, -0.61508226,\n",
       "        0.13392203,  1.37431419,  0.35810789,  0.37193131, -1.38572609,\n",
       "        0.2150092 ,  0.75525701, -1.41322434,  0.58136743,  0.94945925,\n",
       "        2.01682758, -0.18175793,  0.23346215,  0.71246797,  0.07740778,\n",
       "       -0.15804176,  0.33582628, -1.05075264,  1.5087986 ,  0.18585818,\n",
       "       -1.49487543,  1.65735936,  0.78409696, -0.72314143,  1.27234077])"
      ]
     },
     "execution_count": 39,
     "metadata": {},
     "output_type": "execute_result"
    }
   ],
   "source": [
    "# let's look at an embedding of a word\n",
    "embeddings_weights_matrix[word_tokenizer.word_index[\"تصنيع\"]]"
   ]
  },
  {
   "cell_type": "markdown",
   "id": "d96325fe",
   "metadata": {},
   "source": [
    "## Step 5 : Finalizing the Shape of Data"
   ]
  },
  {
   "cell_type": "code",
   "execution_count": 40,
   "id": "80439738",
   "metadata": {},
   "outputs": [],
   "source": [
    "# assign padded sequences to X_train and Y_train\n",
    "X_train, Y_train = train_text_padded, train_tags_padded"
   ]
  },
  {
   "cell_type": "code",
   "execution_count": 41,
   "id": "e21134ce",
   "metadata": {},
   "outputs": [],
   "source": [
    "# assign padded sequences to X_val and Y_val\n",
    "X_val, Y_val = val_text_padded, val_tags_padded"
   ]
  },
  {
   "cell_type": "code",
   "execution_count": 42,
   "id": "02d37e17",
   "metadata": {},
   "outputs": [],
   "source": [
    "# assign padded sequences to X_test and Y_test\n",
    "X_test, Y_test = test_text_padded, test_tags_padded"
   ]
  },
  {
   "cell_type": "code",
   "execution_count": 43,
   "id": "4fd986d5",
   "metadata": {},
   "outputs": [],
   "source": [
    "# use Keras' to_categorical function to one-hot encode Y\n",
    "Y_train = to_categorical(Y_train)\n",
    "Y_val   = to_categorical(Y_val)\n",
    "Y_test  = to_categorical(Y_test)"
   ]
  },
  {
   "cell_type": "code",
   "execution_count": 44,
   "id": "7faeddbb",
   "metadata": {},
   "outputs": [
    {
     "name": "stdout",
     "output_type": "stream",
     "text": [
      "TRAINING DATA\n",
      "Shape of input sequences: (6073, 100)\n",
      "Shape of output sequences: (6073, 100, 17)\n",
      "--------------------------------------------------\n",
      "VALIDATION DATA\n",
      "Shape of input sequences: (906, 100)\n",
      "Shape of output sequences: (906, 100, 17)\n",
      "--------------------------------------------------\n",
      "TESTING DATA\n",
      "Shape of input sequences: (678, 100)\n",
      "Shape of output sequences: (678, 100, 17)\n"
     ]
    }
   ],
   "source": [
    "# print number of samples in each set\n",
    "print(\"TRAINING DATA\")\n",
    "print('Shape of input sequences: {}'.format(X_train.shape))\n",
    "print('Shape of output sequences: {}'.format(Y_train.shape))\n",
    "print(\"-\"*50)\n",
    "print(\"VALIDATION DATA\")\n",
    "print('Shape of input sequences: {}'.format(X_val.shape))\n",
    "print('Shape of output sequences: {}'.format(Y_val.shape))\n",
    "print(\"-\"*50)\n",
    "print(\"TESTING DATA\")\n",
    "print('Shape of input sequences: {}'.format(X_test.shape))\n",
    "print('Shape of output sequences: {}'.format(Y_test.shape))"
   ]
  },
  {
   "cell_type": "markdown",
   "id": "1ba6ea15",
   "metadata": {},
   "source": [
    "## Step 6 :Modeling"
   ]
  },
  {
   "cell_type": "markdown",
   "id": "3912e3c2",
   "metadata": {},
   "source": [
    "Before using RNN, we must make sure the dimensions of the data are what an RNN expects. In general, an RNN expects the following shape\n",
    "\n",
    "Shape of X_train: (#samples, #timesteps, #features)\n",
    "\n",
    "Shape of Y_train: (#samples, #timesteps, #features)\n",
    "\n",
    "RNN tensor shape\n",
    "\n",
    "Now, there can be various variations in the shape that you use to feed an RNN depending on the type of architecture. Since the problem we're working on has a many-to-many architecture, the input and the output both include number of timesteps which is nothing but the sequence length. But notice that the tensor X doesn't have the third dimension, that is, number of features. That's because we're going to use word embeddings before feeding in the data to an RNN, and hence there is no need to explicitly mention the third dimension. That's because when you use the Embedding() layer in Keras, you the training data will automatically be converted to (#samples, #timesteps, #features) where #features will be the embedding dimention (and note that the Embedding layer is always the very first layer of an RNN). While using the embedding layer we only need to reshape the data to (#samples, #timesteps) which is what we have done. However, note that you'll need to shape it to (#samples, #timesteps, #features) in case you don't use the Embedding() layer in Keras."
   ]
  },
  {
   "cell_type": "markdown",
   "id": "f4f469c8",
   "metadata": {},
   "source": [
    "### Step 6-1 : Vanilla RNN"
   ]
  },
  {
   "cell_type": "markdown",
   "id": "c86b6ad6",
   "metadata": {},
   "source": [
    "Uninitialised fixed embeddings\n",
    "First let's try running a vanilla RNN. For this RNN we won't use the pre-trained word embeddings. We'll use randomly inititalised embeddings. Moreover, we won't update the embeddings weights"
   ]
  },
  {
   "cell_type": "code",
   "execution_count": 45,
   "id": "2c50739d",
   "metadata": {},
   "outputs": [],
   "source": [
    "# Calculate the vocabulary size by adding 1 to the length of the word tokenizer's word index\n",
    "VOCABULARY_SIZE = len(word_tokenizer.word_index) + 1"
   ]
  },
  {
   "cell_type": "code",
   "execution_count": 46,
   "id": "2ea3e776",
   "metadata": {},
   "outputs": [],
   "source": [
    "# Set the dimensionality of word embeddings to 300\n",
    "EMBEDDING_DIM = 300"
   ]
  },
  {
   "cell_type": "code",
   "execution_count": 47,
   "id": "84dc2346",
   "metadata": {},
   "outputs": [],
   "source": [
    "# total number of tags\n",
    "NUM_CLASSES = Y_train.shape[2]"
   ]
  },
  {
   "cell_type": "code",
   "execution_count": 48,
   "id": "a335f262",
   "metadata": {},
   "outputs": [
    {
     "name": "stdout",
     "output_type": "stream",
     "text": [
      "WARNING:tensorflow:From C:\\Users\\Mustafa Abdulnasser\\anaconda3\\lib\\site-packages\\keras\\src\\backend.py:873: The name tf.get_default_graph is deprecated. Please use tf.compat.v1.get_default_graph instead.\n",
      "\n"
     ]
    }
   ],
   "source": [
    "# create architecture\n",
    "\n",
    "rnn_model = Sequential()\n",
    "\n",
    "# create embedding layer - usually the first layer in text problems\n",
    "rnn_model.add(Embedding(input_dim     =  VOCABULARY_SIZE,         # vocabulary size - number of unique words in data\n",
    "                        output_dim    =  EMBEDDING_DIM,          # length of vector with which each word is represented\n",
    "                        input_length  =  MAX_SEQ_LENGTH,          # length of input sequence\n",
    "                        trainable     =  False                    # False - don't update the embeddings\n",
    "))\n",
    "\n",
    "# add an RNN layer which contains 64 RNN cells\n",
    "rnn_model.add(SimpleRNN(64, \n",
    "              return_sequences=True  # True - return whole sequence; False - return single output of the end of the sequence\n",
    "))\n",
    "\n",
    "# add time distributed (output at each sequence) layer\n",
    "rnn_model.add(TimeDistributed(Dense(NUM_CLASSES, activation='softmax')))"
   ]
  },
  {
   "cell_type": "code",
   "execution_count": 49,
   "id": "c7afa00e",
   "metadata": {},
   "outputs": [
    {
     "name": "stdout",
     "output_type": "stream",
     "text": [
      "WARNING:tensorflow:From C:\\Users\\Mustafa Abdulnasser\\anaconda3\\lib\\site-packages\\keras\\src\\optimizers\\__init__.py:309: The name tf.train.Optimizer is deprecated. Please use tf.compat.v1.train.Optimizer instead.\n",
      "\n"
     ]
    }
   ],
   "source": [
    "# Compile the RNN model with categorical crossentropy loss, Adam optimizer, and accuracy metric\n",
    "rnn_model.compile(loss='categorical_crossentropy', optimizer='adam', metrics=['acc'])"
   ]
  },
  {
   "cell_type": "code",
   "execution_count": 50,
   "id": "46eb191a",
   "metadata": {},
   "outputs": [
    {
     "name": "stdout",
     "output_type": "stream",
     "text": [
      "Model: \"sequential\"\n",
      "_________________________________________________________________\n",
      " Layer (type)                Output Shape              Param #   \n",
      "=================================================================\n",
      " embedding (Embedding)       (None, 100, 300)          6573600   \n",
      "                                                                 \n",
      " simple_rnn (SimpleRNN)      (None, 100, 64)           23360     \n",
      "                                                                 \n",
      " time_distributed (TimeDist  (None, 100, 17)           1105      \n",
      " ributed)                                                        \n",
      "                                                                 \n",
      "=================================================================\n",
      "Total params: 6598065 (25.17 MB)\n",
      "Trainable params: 24465 (95.57 KB)\n",
      "Non-trainable params: 6573600 (25.08 MB)\n",
      "_________________________________________________________________\n"
     ]
    }
   ],
   "source": [
    "# check summary of the model\n",
    "rnn_model.summary()"
   ]
  },
  {
   "cell_type": "code",
   "execution_count": 51,
   "id": "c30a1e23",
   "metadata": {},
   "outputs": [
    {
     "name": "stdout",
     "output_type": "stream",
     "text": [
      "Epoch 1/10\n",
      "WARNING:tensorflow:From C:\\Users\\Mustafa Abdulnasser\\anaconda3\\lib\\site-packages\\keras\\src\\utils\\tf_utils.py:492: The name tf.ragged.RaggedTensorValue is deprecated. Please use tf.compat.v1.ragged.RaggedTensorValue instead.\n",
      "\n",
      "WARNING:tensorflow:From C:\\Users\\Mustafa Abdulnasser\\anaconda3\\lib\\site-packages\\keras\\src\\engine\\base_layer_utils.py:384: The name tf.executing_eagerly_outside_functions is deprecated. Please use tf.compat.v1.executing_eagerly_outside_functions instead.\n",
      "\n",
      "48/48 [==============================] - 3s 45ms/step - loss: 1.2464 - acc: 0.6857 - val_loss: 0.8031 - val_acc: 0.7621\n",
      "Epoch 2/10\n",
      "48/48 [==============================] - 2s 35ms/step - loss: 0.8159 - acc: 0.7564 - val_loss: 0.7432 - val_acc: 0.7719\n",
      "Epoch 3/10\n",
      "48/48 [==============================] - 2s 36ms/step - loss: 0.7681 - acc: 0.7637 - val_loss: 0.7014 - val_acc: 0.7824\n",
      "Epoch 4/10\n",
      "48/48 [==============================] - 2s 37ms/step - loss: 0.7198 - acc: 0.7767 - val_loss: 0.6534 - val_acc: 0.8061\n",
      "Epoch 5/10\n",
      "48/48 [==============================] - 2s 37ms/step - loss: 0.6653 - acc: 0.8134 - val_loss: 0.6024 - val_acc: 0.8355\n",
      "Epoch 6/10\n",
      "48/48 [==============================] - 2s 34ms/step - loss: 0.6120 - acc: 0.8359 - val_loss: 0.5573 - val_acc: 0.8469\n",
      "Epoch 7/10\n",
      "48/48 [==============================] - 2s 36ms/step - loss: 0.5663 - acc: 0.8450 - val_loss: 0.5186 - val_acc: 0.8557\n",
      "Epoch 8/10\n",
      "48/48 [==============================] - 2s 35ms/step - loss: 0.5282 - acc: 0.8524 - val_loss: 0.4866 - val_acc: 0.8609\n",
      "Epoch 9/10\n",
      "48/48 [==============================] - 2s 34ms/step - loss: 0.4966 - acc: 0.8577 - val_loss: 0.4596 - val_acc: 0.8663\n",
      "Epoch 10/10\n",
      "48/48 [==============================] - 2s 34ms/step - loss: 0.4701 - acc: 0.8632 - val_loss: 0.4374 - val_acc: 0.8712\n"
     ]
    }
   ],
   "source": [
    "# Train the RNN model on the training data for 10 epochs with a batch size of 128,\n",
    "# validating on the provided validation set\n",
    "rnn_training = rnn_model.fit(X_train, Y_train, batch_size=128, epochs=10, validation_data=(X_val, Y_val))"
   ]
  },
  {
   "cell_type": "code",
   "execution_count": 56,
   "id": "69f34c71",
   "metadata": {},
   "outputs": [
    {
     "data": {
      "image/png": "[encoded data removed]",
      "text/plain": [
       "<Figure size 640x480 with 1 Axes>"
      ]
     },
     "metadata": {},
     "output_type": "display_data"
    }
   ],
   "source": [
    "# visualise training history\n",
    "plt.plot(rnn_training.history['loss'])  # Use 'loss' instead of 'acc' for training loss\n",
    "plt.plot(rnn_training.history['val_loss'])  # Use 'val_loss' instead of 'val_acc' for validation loss\n",
    "plt.title('Model Loss')\n",
    "plt.ylabel('Loss')\n",
    "plt.xlabel('Epoch')\n",
    "plt.legend(['train', 'validation'], loc=\"upper right\")\n",
    "plt.show()"
   ]
  },
  {
   "cell_type": "code",
   "execution_count": 53,
   "id": "ceac5b00",
   "metadata": {},
   "outputs": [
    {
     "name": "stdout",
     "output_type": "stream",
     "text": [
      "22/22 [==============================] - 0s 8ms/step\n"
     ]
    }
   ],
   "source": [
    "# Predicting using the RNN model on the test data\n",
    "y_pred = rnn_model.predict(X_test)"
   ]
  },
  {
   "cell_type": "code",
   "execution_count": 54,
   "id": "611cb309",
   "metadata": {},
   "outputs": [],
   "source": [
    "def one_hot_encode_3d(data):\n",
    "    \"\"\"\n",
    "    Apply one-hot encoding to a 3D numpy array. \n",
    "    The one-hot encoding will be applied along the last axis of the array.\n",
    "    \"\"\"\n",
    "    # Initialize an array of zeros with the same shape as the input data\n",
    "    one_hot_encoded = np.zeros_like(data)\n",
    "\n",
    "    # Iterate over the first and second dimensions and apply one-hot encoding\n",
    "    for i in range(data.shape[0]):\n",
    "        for j in range(data.shape[1]):\n",
    "            index_of_max_value = np.argmax(data[i, j, :])\n",
    "            one_hot_encoded[i, j, index_of_max_value] = 1\n",
    "\n",
    "    return one_hot_encoded"
   ]
  },
  {
   "cell_type": "code",
   "execution_count": 59,
   "id": "42c719da",
   "metadata": {},
   "outputs": [
    {
     "name": "stdout",
     "output_type": "stream",
     "text": [
      "Weighted F1-Score: 82.36 %\n",
      "Accuracy: 85.16 %\n"
     ]
    }
   ],
   "source": [
    "# Evaluate the RNN model on the test set\n",
    "loss, accuracy = rnn_model.evaluate(X_test, Y_test, verbose=0)\n",
    "\n",
    "# Apply one-hot encoding to predictions\n",
    "one_hot_encoded_data_3d = one_hot_encode_3d(y_pred)\n",
    "\n",
    "# Flattening the arrays to 2D for multi-label classification\n",
    "y_true_flat = Y_test.reshape(-1, Y_test.shape[-1])\n",
    "y_pred_flat = one_hot_encoded_data_3d.reshape(-1, one_hot_encoded_data_3d.shape[-1])\n",
    "\n",
    "# Calculate the F1 score\n",
    "result_1 = f1_score(y_true_flat, y_pred_flat, average=\"weighted\")\n",
    "\n",
    "# Print the weighted F1-Score\n",
    "print(f\"Weighted F1-Score: {round(result_1 * 100, 2)} %\")\n",
    "\n",
    "# Print accuracy in a similar format\n",
    "print(f\"Accuracy: {round(accuracy * 100, 2)} %\")"
   ]
  },
  {
   "cell_type": "markdown",
   "id": "6a91add0",
   "metadata": {},
   "source": [
    "#### Uninitialised trainable embeddings"
   ]
  },
  {
   "cell_type": "code",
   "execution_count": 61,
   "id": "215a5ed4",
   "metadata": {},
   "outputs": [],
   "source": [
    "# create architecture\n",
    "\n",
    "rnn_model = Sequential()\n",
    "\n",
    "# create embedding layer - usually the first layer in text problems\n",
    "rnn_model.add(Embedding(input_dim     =  VOCABULARY_SIZE,         # vocabulary size - number of unique words in data\n",
    "                        output_dim    =  EMBEDDING_DIM,          # length of vector with which each word is represented\n",
    "                        input_length  =  MAX_SEQ_LENGTH,          # length of input sequence\n",
    "                        trainable     =  True                     # True - update the embeddings while training\n",
    "))\n",
    "\n",
    "# add an RNN layer which contains 64 RNN cells\n",
    "rnn_model.add(SimpleRNN(64, \n",
    "              return_sequences=True  # True - return whole sequence; False - return single output of the end of the sequence\n",
    "))\n",
    "\n",
    "# add time distributed (output at each sequence) layer\n",
    "rnn_model.add(TimeDistributed(Dense(NUM_CLASSES, activation='softmax')))"
   ]
  },
  {
   "cell_type": "code",
   "execution_count": 62,
   "id": "c666fe05",
   "metadata": {},
   "outputs": [],
   "source": [
    "# Compile the RNN model with categorical crossentropy loss, Adam optimizer, and accuracy metric\n",
    "rnn_model.compile(loss='categorical_crossentropy', optimizer='adam', metrics=['acc'])"
   ]
  },
  {
   "cell_type": "code",
   "execution_count": 63,
   "id": "91c91234",
   "metadata": {},
   "outputs": [
    {
     "name": "stdout",
     "output_type": "stream",
     "text": [
      "Model: \"sequential_1\"\n",
      "_________________________________________________________________\n",
      " Layer (type)                Output Shape              Param #   \n",
      "=================================================================\n",
      " embedding_1 (Embedding)     (None, 100, 300)          6573600   \n",
      "                                                                 \n",
      " simple_rnn_1 (SimpleRNN)    (None, 100, 64)           23360     \n",
      "                                                                 \n",
      " time_distributed_1 (TimeDi  (None, 100, 17)           1105      \n",
      " stributed)                                                      \n",
      "                                                                 \n",
      "=================================================================\n",
      "Total params: 6598065 (25.17 MB)\n",
      "Trainable params: 6598065 (25.17 MB)\n",
      "Non-trainable params: 0 (0.00 Byte)\n",
      "_________________________________________________________________\n"
     ]
    }
   ],
   "source": [
    "# check summary of the model\n",
    "rnn_model.summary()"
   ]
  },
  {
   "cell_type": "code",
   "execution_count": 64,
   "id": "50658444",
   "metadata": {},
   "outputs": [
    {
     "name": "stdout",
     "output_type": "stream",
     "text": [
      "Epoch 1/10\n",
      "48/48 [==============================] - 7s 130ms/step - loss: 1.1928 - acc: 0.6879 - val_loss: 0.6900 - val_acc: 0.7927\n",
      "Epoch 2/10\n",
      "48/48 [==============================] - 6s 126ms/step - loss: 0.5923 - acc: 0.8488 - val_loss: 0.4279 - val_acc: 0.9072\n",
      "Epoch 3/10\n",
      "48/48 [==============================] - 6s 127ms/step - loss: 0.3259 - acc: 0.9331 - val_loss: 0.2422 - val_acc: 0.9467\n",
      "Epoch 4/10\n",
      "48/48 [==============================] - 6s 126ms/step - loss: 0.1765 - acc: 0.9674 - val_loss: 0.1554 - val_acc: 0.9662\n",
      "Epoch 5/10\n",
      "48/48 [==============================] - 6s 126ms/step - loss: 0.1043 - acc: 0.9828 - val_loss: 0.1143 - val_acc: 0.9730\n",
      "Epoch 6/10\n",
      "48/48 [==============================] - 6s 126ms/step - loss: 0.0677 - acc: 0.9891 - val_loss: 0.0947 - val_acc: 0.9756\n",
      "Epoch 7/10\n",
      "48/48 [==============================] - 6s 126ms/step - loss: 0.0484 - acc: 0.9918 - val_loss: 0.0852 - val_acc: 0.9772\n",
      "Epoch 8/10\n",
      "48/48 [==============================] - 6s 128ms/step - loss: 0.0374 - acc: 0.9930 - val_loss: 0.0802 - val_acc: 0.9778\n",
      "Epoch 9/10\n",
      "48/48 [==============================] - 6s 129ms/step - loss: 0.0304 - acc: 0.9939 - val_loss: 0.0781 - val_acc: 0.9777\n",
      "Epoch 10/10\n",
      "48/48 [==============================] - 6s 129ms/step - loss: 0.0256 - acc: 0.9947 - val_loss: 0.0770 - val_acc: 0.9779\n"
     ]
    }
   ],
   "source": [
    "# Train the RNN model on the training data for 10 epochs with a batch size of 128,\n",
    "# validating on the provided validation set\n",
    "rnn_training = rnn_model.fit(X_train, Y_train, batch_size=128, epochs=10, validation_data=(X_val, Y_val))"
   ]
  },
  {
   "cell_type": "code",
   "execution_count": 65,
   "id": "25e93b88",
   "metadata": {},
   "outputs": [
    {
     "data": {
      "image/png": "[encoded data removed]",
      "text/plain": [
       "<Figure size 640x480 with 1 Axes>"
      ]
     },
     "metadata": {},
     "output_type": "display_data"
    }
   ],
   "source": [
    "# visualise training history\n",
    "plt.plot(rnn_training.history['loss'])  # Use 'loss' instead of 'acc' for training loss\n",
    "plt.plot(rnn_training.history['val_loss'])  # Use 'val_loss' instead of 'val_acc' for validation loss\n",
    "plt.title('Model Loss')\n",
    "plt.ylabel('Loss')\n",
    "plt.xlabel('Epoch')\n",
    "plt.legend(['train', 'validation'], loc=\"upper right\")\n",
    "plt.show()"
   ]
  },
  {
   "cell_type": "code",
   "execution_count": 67,
   "id": "33ca1495",
   "metadata": {},
   "outputs": [
    {
     "name": "stdout",
     "output_type": "stream",
     "text": [
      "22/22 [==============================] - 0s 8ms/step\n"
     ]
    }
   ],
   "source": [
    "# Predicting using the RNN model on the test data\n",
    "y_pred = rnn_model.predict(X_test)"
   ]
  },
  {
   "cell_type": "code",
   "execution_count": 68,
   "id": "cce48439",
   "metadata": {},
   "outputs": [
    {
     "name": "stdout",
     "output_type": "stream",
     "text": [
      "Weighted F1-Score: 97.41 %\n",
      "Accuracy: 97.5 %\n"
     ]
    }
   ],
   "source": [
    "# Evaluate the RNN model on the test set\n",
    "loss, accuracy = rnn_model.evaluate(X_test, Y_test, verbose=0)\n",
    "\n",
    "# Apply one-hot encoding to predictions\n",
    "one_hot_encoded_data_3d = one_hot_encode_3d(y_pred)\n",
    "\n",
    "# Flattening the arrays to 2D for multi-label classification\n",
    "y_true_flat = Y_test.reshape(-1, Y_test.shape[-1])\n",
    "y_pred_flat = one_hot_encoded_data_3d.reshape(-1, one_hot_encoded_data_3d.shape[-1])\n",
    "\n",
    "# Calculate the F1 score\n",
    "result_1 = f1_score(y_true_flat, y_pred_flat, average=\"weighted\")\n",
    "\n",
    "# Print the weighted F1-Score\n",
    "print(f\"Weighted F1-Score: {round(result_1 * 100, 2)} %\")\n",
    "\n",
    "# Print accuracy in a similar format\n",
    "print(f\"Accuracy: {round(accuracy * 100, 2)} %\")"
   ]
  },
  {
   "cell_type": "markdown",
   "id": "f7263155",
   "metadata": {},
   "source": [
    "#### Using pre-trained embedding weights"
   ]
  },
  {
   "cell_type": "code",
   "execution_count": 69,
   "id": "26d12542",
   "metadata": {},
   "outputs": [],
   "source": [
    "# create architecture\n",
    "\n",
    "rnn_model = Sequential()\n",
    "\n",
    "# create embedding layer - usually the first layer in text problems\n",
    "rnn_model.add(Embedding(input_dim     =  VOCABULARY_SIZE,         # vocabulary size - number of unique words in data\n",
    "                        output_dim    =  EMBEDDING_DIM,          # length of vector with which each word is represented\n",
    "                        input_length  =  MAX_SEQ_LENGTH,          # length of input sequence\n",
    "                        weights       = [embeddings_weights_matrix],      # word embedding matrix\n",
    "                        trainable     =  True                     # True - update the embeddings while training\n",
    "))\n",
    "\n",
    "# add an RNN layer which contains 64 RNN cells\n",
    "rnn_model.add(SimpleRNN(64, \n",
    "              return_sequences=True,   # True - return whole sequence; False - return single output of the end of the sequence\n",
    "))\n",
    "\n",
    "# add time distributed (output at each sequence) layer\n",
    "rnn_model.add(TimeDistributed(Dense(NUM_CLASSES, activation='softmax')))"
   ]
  },
  {
   "cell_type": "code",
   "execution_count": 70,
   "id": "7bdfe245",
   "metadata": {},
   "outputs": [],
   "source": [
    "# Compile the RNN model with categorical crossentropy loss, Adam optimizer, and accuracy metric\n",
    "rnn_model.compile(loss='categorical_crossentropy', optimizer='adam', metrics=['acc'])"
   ]
  },
  {
   "cell_type": "code",
   "execution_count": 71,
   "id": "acb5adf0",
   "metadata": {},
   "outputs": [
    {
     "name": "stdout",
     "output_type": "stream",
     "text": [
      "Model: \"sequential_2\"\n",
      "_________________________________________________________________\n",
      " Layer (type)                Output Shape              Param #   \n",
      "=================================================================\n",
      " embedding_2 (Embedding)     (None, 100, 300)          6573600   \n",
      "                                                                 \n",
      " simple_rnn_2 (SimpleRNN)    (None, 100, 64)           23360     \n",
      "                                                                 \n",
      " time_distributed_2 (TimeDi  (None, 100, 17)           1105      \n",
      " stributed)                                                      \n",
      "                                                                 \n",
      "=================================================================\n",
      "Total params: 6598065 (25.17 MB)\n",
      "Trainable params: 6598065 (25.17 MB)\n",
      "Non-trainable params: 0 (0.00 Byte)\n",
      "_________________________________________________________________\n"
     ]
    }
   ],
   "source": [
    "# check summary of the model\n",
    "rnn_model.summary()"
   ]
  },
  {
   "cell_type": "code",
   "execution_count": 72,
   "id": "6b60411f",
   "metadata": {},
   "outputs": [
    {
     "name": "stdout",
     "output_type": "stream",
     "text": [
      "Epoch 1/10\n",
      "48/48 [==============================] - 8s 143ms/step - loss: 0.8599 - acc: 0.8053 - val_loss: 0.3899 - val_acc: 0.8983\n",
      "Epoch 2/10\n",
      "48/48 [==============================] - 7s 144ms/step - loss: 0.3095 - acc: 0.9231 - val_loss: 0.2523 - val_acc: 0.9380\n",
      "Epoch 3/10\n",
      "48/48 [==============================] - 6s 128ms/step - loss: 0.1999 - acc: 0.9537 - val_loss: 0.1803 - val_acc: 0.9563\n",
      "Epoch 4/10\n",
      "48/48 [==============================] - 6s 124ms/step - loss: 0.1367 - acc: 0.9687 - val_loss: 0.1341 - val_acc: 0.9653\n",
      "Epoch 5/10\n",
      "48/48 [==============================] - 6s 124ms/step - loss: 0.1016 - acc: 0.9769 - val_loss: 0.1122 - val_acc: 0.9698\n",
      "Epoch 6/10\n",
      "48/48 [==============================] - 7s 141ms/step - loss: 0.0798 - acc: 0.9818 - val_loss: 0.0993 - val_acc: 0.9719\n",
      "Epoch 7/10\n",
      "48/48 [==============================] - 7s 138ms/step - loss: 0.0655 - acc: 0.9848 - val_loss: 0.0908 - val_acc: 0.9737\n",
      "Epoch 8/10\n",
      "48/48 [==============================] - 6s 126ms/step - loss: 0.0554 - acc: 0.9868 - val_loss: 0.0855 - val_acc: 0.9744\n",
      "Epoch 9/10\n",
      "48/48 [==============================] - 6s 132ms/step - loss: 0.0480 - acc: 0.9882 - val_loss: 0.0816 - val_acc: 0.9756\n",
      "Epoch 10/10\n",
      "48/48 [==============================] - 7s 138ms/step - loss: 0.0425 - acc: 0.9893 - val_loss: 0.0791 - val_acc: 0.9760\n"
     ]
    }
   ],
   "source": [
    "# Train the RNN model on the training data for 10 epochs with a batch size of 128,\n",
    "# validating on the provided validation set\n",
    "rnn_training = rnn_model.fit(X_train, Y_train, batch_size=128, epochs=10, validation_data=(X_val, Y_val))"
   ]
  },
  {
   "cell_type": "code",
   "execution_count": 73,
   "id": "f5589f93",
   "metadata": {},
   "outputs": [
    {
     "data": {
      "image/png": "[encoded data removed]",
      "text/plain": [
       "<Figure size 640x480 with 1 Axes>"
      ]
     },
     "metadata": {},
     "output_type": "display_data"
    }
   ],
   "source": [
    "# visualise training history\n",
    "plt.plot(rnn_training.history['loss'])  # Use 'loss' instead of 'acc' for training loss\n",
    "plt.plot(rnn_training.history['val_loss'])  # Use 'val_loss' instead of 'val_acc' for validation loss\n",
    "plt.title('Model Loss')\n",
    "plt.ylabel('Loss')\n",
    "plt.xlabel('Epoch')\n",
    "plt.legend(['train', 'validation'], loc=\"upper right\")\n",
    "plt.show()"
   ]
  },
  {
   "cell_type": "code",
   "execution_count": 74,
   "id": "aae0d22d",
   "metadata": {},
   "outputs": [
    {
     "name": "stdout",
     "output_type": "stream",
     "text": [
      "22/22 [==============================] - 0s 8ms/step\n"
     ]
    }
   ],
   "source": [
    "# Predicting using the RNN model on the test data\n",
    "y_pred = rnn_model.predict(X_test)"
   ]
  },
  {
   "cell_type": "code",
   "execution_count": 78,
   "id": "f33918bc",
   "metadata": {},
   "outputs": [
    {
     "name": "stdout",
     "output_type": "stream",
     "text": [
      "Weighted F1-Score: 97.19 %\n",
      "Accuracy: 97.26 %\n"
     ]
    }
   ],
   "source": [
    "# Evaluate the RNN model on the test set\n",
    "loss, accuracy = rnn_model.evaluate(X_test, Y_test, verbose=0)\n",
    "\n",
    "# Apply one-hot encoding to predictions\n",
    "one_hot_encoded_data_3d = one_hot_encode_3d(y_pred)\n",
    "\n",
    "# Flattening the arrays to 2D for multi-label classification\n",
    "y_true_flat = Y_test.reshape(-1, Y_test.shape[-1])\n",
    "y_pred_flat = one_hot_encoded_data_3d.reshape(-1, one_hot_encoded_data_3d.shape[-1])\n",
    "\n",
    "# Calculate the F1 score\n",
    "result_1 = f1_score(y_true_flat, y_pred_flat, average=\"weighted\")\n",
    "\n",
    "# Print the weighted F1-Score\n",
    "print(f\"Weighted F1-Score: {round(result_1 * 100, 2)} %\")\n",
    "\n",
    "# Print accuracy in a similar format\n",
    "print(f\"Accuracy: {round(accuracy * 100, 2)} %\")"
   ]
  },
  {
   "cell_type": "markdown",
   "id": "423284b5",
   "metadata": {},
   "source": [
    "### Step 6-2 : LSTM\n",
    "I'll use pre-trained word embeddings in following models and allow them to be updated as well."
   ]
  },
  {
   "cell_type": "code",
   "execution_count": 79,
   "id": "85cf2c1f",
   "metadata": {},
   "outputs": [],
   "source": [
    "# create architecture\n",
    "\n",
    "lstm_model = Sequential()\n",
    "lstm_model.add(Embedding(input_dim     = VOCABULARY_SIZE,         # vocabulary size - number of unique words in data\n",
    "                         output_dim    = EMBEDDING_DIM,          # length of vector with which each word is represented\n",
    "                         input_length  = MAX_SEQ_LENGTH,          # length of input sequence\n",
    "                         weights       = [embeddings_weights_matrix],     # word embedding matrix\n",
    "                         trainable     = True                     # True - update embeddings_weight matrix\n",
    "))\n",
    "\n",
    "# add an LSTM layer which contains 64 RNN cells\n",
    "lstm_model.add(LSTM(64, return_sequences=True)) # True - return whole sequence; False - return single output of the end of the sequence\n",
    "\n",
    "# add time distributed (output at each sequence) layer\n",
    "lstm_model.add(TimeDistributed(Dense(NUM_CLASSES, activation='softmax')))"
   ]
  },
  {
   "cell_type": "code",
   "execution_count": 80,
   "id": "bde8c6dd",
   "metadata": {},
   "outputs": [],
   "source": [
    "# Compile the LSTM model with categorical crossentropy loss, Adam optimizer, and accuracy metric\n",
    "lstm_model.compile(loss='categorical_crossentropy', optimizer='adam', metrics=['acc'])"
   ]
  },
  {
   "cell_type": "code",
   "execution_count": 81,
   "id": "94c92df2",
   "metadata": {},
   "outputs": [
    {
     "name": "stdout",
     "output_type": "stream",
     "text": [
      "Model: \"sequential_3\"\n",
      "_________________________________________________________________\n",
      " Layer (type)                Output Shape              Param #   \n",
      "=================================================================\n",
      " embedding_3 (Embedding)     (None, 100, 300)          6573600   \n",
      "                                                                 \n",
      " lstm (LSTM)                 (None, 100, 64)           93440     \n",
      "                                                                 \n",
      " time_distributed_3 (TimeDi  (None, 100, 17)           1105      \n",
      " stributed)                                                      \n",
      "                                                                 \n",
      "=================================================================\n",
      "Total params: 6668145 (25.44 MB)\n",
      "Trainable params: 6668145 (25.44 MB)\n",
      "Non-trainable params: 0 (0.00 Byte)\n",
      "_________________________________________________________________\n"
     ]
    }
   ],
   "source": [
    "# check summary of the model\n",
    "lstm_model.summary()"
   ]
  },
  {
   "cell_type": "code",
   "execution_count": 82,
   "id": "8cbdec12",
   "metadata": {},
   "outputs": [
    {
     "name": "stdout",
     "output_type": "stream",
     "text": [
      "Epoch 1/10\n",
      "48/48 [==============================] - 11s 194ms/step - loss: 1.1335 - acc: 0.8072 - val_loss: 0.4166 - val_acc: 0.8850\n",
      "Epoch 2/10\n",
      "48/48 [==============================] - 9s 192ms/step - loss: 0.3587 - acc: 0.9012 - val_loss: 0.2814 - val_acc: 0.9289\n",
      "Epoch 3/10\n",
      "48/48 [==============================] - 9s 198ms/step - loss: 0.2411 - acc: 0.9431 - val_loss: 0.1952 - val_acc: 0.9505\n",
      "Epoch 4/10\n",
      "48/48 [==============================] - 9s 184ms/step - loss: 0.1596 - acc: 0.9630 - val_loss: 0.1408 - val_acc: 0.9657\n",
      "Epoch 5/10\n",
      "48/48 [==============================] - 9s 196ms/step - loss: 0.1110 - acc: 0.9765 - val_loss: 0.1123 - val_acc: 0.9707\n",
      "Epoch 6/10\n",
      "48/48 [==============================] - 9s 182ms/step - loss: 0.0842 - acc: 0.9818 - val_loss: 0.0969 - val_acc: 0.9732\n",
      "Epoch 7/10\n",
      "48/48 [==============================] - 9s 192ms/step - loss: 0.0681 - acc: 0.9851 - val_loss: 0.0879 - val_acc: 0.9740\n",
      "Epoch 8/10\n",
      "48/48 [==============================] - 9s 187ms/step - loss: 0.0573 - acc: 0.9871 - val_loss: 0.0817 - val_acc: 0.9753\n",
      "Epoch 9/10\n",
      "48/48 [==============================] - 9s 192ms/step - loss: 0.0497 - acc: 0.9884 - val_loss: 0.0783 - val_acc: 0.9756\n",
      "Epoch 10/10\n",
      "48/48 [==============================] - 9s 182ms/step - loss: 0.0440 - acc: 0.9892 - val_loss: 0.0754 - val_acc: 0.9763\n"
     ]
    }
   ],
   "source": [
    "# Train the LSTM model on the training data for 10 epochs with a batch size of 128,\n",
    "# validating on the provided validation set\n",
    "lstm_training = lstm_model.fit(X_train, Y_train, batch_size=128, epochs=10, validation_data=(X_val, Y_val))"
   ]
  },
  {
   "cell_type": "code",
   "execution_count": 83,
   "id": "d5c27a5c",
   "metadata": {},
   "outputs": [
    {
     "data": {
      "image/png": "[encoded data removed]",
      "text/plain": [
       "<Figure size 640x480 with 1 Axes>"
      ]
     },
     "metadata": {},
     "output_type": "display_data"
    }
   ],
   "source": [
    "# visualise training history\n",
    "plt.plot(lstm_training.history['loss'])  # Use 'loss' instead of 'acc' for training loss\n",
    "plt.plot(lstm_training.history['val_loss'])  # Use 'val_loss' instead of 'val_acc' for validation loss\n",
    "plt.title('Model Loss')\n",
    "plt.ylabel('Loss')\n",
    "plt.xlabel('Epoch')\n",
    "plt.legend(['train', 'validation'], loc=\"upper right\")\n",
    "plt.show()"
   ]
  },
  {
   "cell_type": "code",
   "execution_count": 85,
   "id": "8d10adc8",
   "metadata": {},
   "outputs": [
    {
     "name": "stdout",
     "output_type": "stream",
     "text": [
      "22/22 [==============================] - 1s 17ms/step\n"
     ]
    }
   ],
   "source": [
    "# Predicting using the LSTM model on the test data\n",
    "y_pred = lstm_model.predict(X_test)"
   ]
  },
  {
   "cell_type": "code",
   "execution_count": 86,
   "id": "eed7bb05",
   "metadata": {},
   "outputs": [
    {
     "name": "stdout",
     "output_type": "stream",
     "text": [
      "Weighted F1-Score: 97.3 %\n",
      "Accuracy: 97.38 %\n"
     ]
    }
   ],
   "source": [
    "# Evaluate the RNN model on the test set\n",
    "loss, accuracy = lstm_model.evaluate(X_test, Y_test, verbose=0)\n",
    "\n",
    "# Apply one-hot encoding to predictions\n",
    "one_hot_encoded_data_3d = one_hot_encode_3d(y_pred)\n",
    "\n",
    "# Flattening the arrays to 2D for multi-label classification\n",
    "y_true_flat = Y_test.reshape(-1, Y_test.shape[-1])\n",
    "y_pred_flat = one_hot_encoded_data_3d.reshape(-1, one_hot_encoded_data_3d.shape[-1])\n",
    "\n",
    "# Calculate the F1 score\n",
    "result_1 = f1_score(y_true_flat, y_pred_flat, average=\"weighted\")\n",
    "\n",
    "# Print the weighted F1-Score\n",
    "print(f\"Weighted F1-Score: {round(result_1 * 100, 2)} %\")\n",
    "\n",
    "# Print accuracy in a similar format\n",
    "print(f\"Accuracy: {round(accuracy * 100, 2)} %\")"
   ]
  },
  {
   "cell_type": "markdown",
   "id": "e63d5164",
   "metadata": {},
   "source": [
    "### Step 6-3 : Bi-directional LSTM"
   ]
  },
  {
   "cell_type": "code",
   "execution_count": 87,
   "id": "3cca0ac7",
   "metadata": {},
   "outputs": [],
   "source": [
    "# create architecture\n",
    "\n",
    "bidirect_model = Sequential()\n",
    "bidirect_model.add(Embedding(input_dim     = VOCABULARY_SIZE,         # vocabulary size - number of unique words in data\n",
    "                         output_dim    = EMBEDDING_DIM,          # length of vector with which each word is represented\n",
    "                         input_length  = MAX_SEQ_LENGTH,          # length of input sequence\n",
    "                         weights       = [embeddings_weights_matrix],     # word embedding matrix\n",
    "                         trainable     = True                     # True - update embeddings_weight matrix\n",
    "))\n",
    "\n",
    "# add an BI-LSTM layer which contains 64 RNN cells\n",
    "bidirect_model.add(Bidirectional(LSTM(64, return_sequences=True))) # True - return whole sequence; False - return single output of the end of the sequence\n",
    "\n",
    "# add time distributed (output at each sequence) layer\n",
    "bidirect_model.add(TimeDistributed(Dense(NUM_CLASSES, activation='softmax')))"
   ]
  },
  {
   "cell_type": "code",
   "execution_count": 88,
   "id": "8b098f17",
   "metadata": {},
   "outputs": [],
   "source": [
    "# Compile the BI-LSTM model with categorical crossentropy loss, Adam optimizer, and accuracy metric\n",
    "bidirect_model.compile(loss='categorical_crossentropy', optimizer='adam', metrics=['acc'])"
   ]
  },
  {
   "cell_type": "code",
   "execution_count": 89,
   "id": "cf44a0df",
   "metadata": {},
   "outputs": [
    {
     "name": "stdout",
     "output_type": "stream",
     "text": [
      "Model: \"sequential_4\"\n",
      "_________________________________________________________________\n",
      " Layer (type)                Output Shape              Param #   \n",
      "=================================================================\n",
      " embedding_4 (Embedding)     (None, 100, 300)          6573600   \n",
      "                                                                 \n",
      " bidirectional (Bidirection  (None, 100, 128)          186880    \n",
      " al)                                                             \n",
      "                                                                 \n",
      " time_distributed_4 (TimeDi  (None, 100, 17)           2193      \n",
      " stributed)                                                      \n",
      "                                                                 \n",
      "=================================================================\n",
      "Total params: 6762673 (25.80 MB)\n",
      "Trainable params: 6762673 (25.80 MB)\n",
      "Non-trainable params: 0 (0.00 Byte)\n",
      "_________________________________________________________________\n"
     ]
    }
   ],
   "source": [
    "# check summary of the model\n",
    "bidirect_model.summary()"
   ]
  },
  {
   "cell_type": "code",
   "execution_count": 90,
   "id": "5e41fba4",
   "metadata": {},
   "outputs": [
    {
     "name": "stdout",
     "output_type": "stream",
     "text": [
      "Epoch 1/10\n",
      "48/48 [==============================] - 17s 294ms/step - loss: 0.9940 - acc: 0.8225 - val_loss: 0.3361 - val_acc: 0.9005\n",
      "Epoch 2/10\n",
      "48/48 [==============================] - 13s 277ms/step - loss: 0.2845 - acc: 0.9195 - val_loss: 0.2171 - val_acc: 0.9433\n",
      "Epoch 3/10\n",
      "48/48 [==============================] - 14s 286ms/step - loss: 0.1739 - acc: 0.9577 - val_loss: 0.1379 - val_acc: 0.9651\n",
      "Epoch 4/10\n",
      "48/48 [==============================] - 14s 287ms/step - loss: 0.1069 - acc: 0.9753 - val_loss: 0.0991 - val_acc: 0.9728\n",
      "Epoch 5/10\n",
      "48/48 [==============================] - 14s 287ms/step - loss: 0.0746 - acc: 0.9821 - val_loss: 0.0821 - val_acc: 0.9760\n",
      "Epoch 6/10\n",
      "48/48 [==============================] - 13s 279ms/step - loss: 0.0577 - acc: 0.9857 - val_loss: 0.0728 - val_acc: 0.9778\n",
      "Epoch 7/10\n",
      "48/48 [==============================] - 15s 308ms/step - loss: 0.0473 - acc: 0.9879 - val_loss: 0.0677 - val_acc: 0.9785\n",
      "Epoch 8/10\n",
      "48/48 [==============================] - 13s 272ms/step - loss: 0.0403 - acc: 0.9892 - val_loss: 0.0641 - val_acc: 0.9792\n",
      "Epoch 9/10\n",
      "48/48 [==============================] - 13s 272ms/step - loss: 0.0352 - acc: 0.9903 - val_loss: 0.0618 - val_acc: 0.9796\n",
      "Epoch 10/10\n",
      "48/48 [==============================] - 15s 310ms/step - loss: 0.0315 - acc: 0.9910 - val_loss: 0.0605 - val_acc: 0.9798\n"
     ]
    }
   ],
   "source": [
    "# Train the BI-LSTM model on the training data for 10 epochs with a batch size of 128,\n",
    "# validating on the provided validation set\n",
    "bilstm_training = bidirect_model.fit(X_train, Y_train, batch_size=128, epochs=10, validation_data=(X_val, Y_val))"
   ]
  },
  {
   "cell_type": "code",
   "execution_count": 91,
   "id": "84b1eec3",
   "metadata": {},
   "outputs": [
    {
     "data": {
      "image/png": "[encoded data removed]",
      "text/plain": [
       "<Figure size 640x480 with 1 Axes>"
      ]
     },
     "metadata": {},
     "output_type": "display_data"
    }
   ],
   "source": [
    "# visualise training history\n",
    "plt.plot(bilstm_training.history['loss'])  # Use 'loss' instead of 'acc' for training loss\n",
    "plt.plot(bilstm_training.history['val_loss'])  # Use 'val_loss' instead of 'val_acc' for validation loss\n",
    "plt.title('Model Loss')\n",
    "plt.ylabel('Loss')\n",
    "plt.xlabel('Epoch')\n",
    "plt.legend(['train', 'validation'], loc=\"upper right\")\n",
    "plt.show()"
   ]
  },
  {
   "cell_type": "code",
   "execution_count": 92,
   "id": "b0f3e09e",
   "metadata": {},
   "outputs": [
    {
     "name": "stdout",
     "output_type": "stream",
     "text": [
      "22/22 [==============================] - 1s 23ms/step\n"
     ]
    }
   ],
   "source": [
    "# Predicting using the LSTM model on the test data\n",
    "y_pred = bidirect_model.predict(X_test)"
   ]
  },
  {
   "cell_type": "code",
   "execution_count": 93,
   "id": "00f81cd6",
   "metadata": {},
   "outputs": [
    {
     "name": "stdout",
     "output_type": "stream",
     "text": [
      "Weighted F1-Score: 97.66 %\n",
      "Accuracy: 97.71 %\n"
     ]
    }
   ],
   "source": [
    "# Evaluate the RNN model on the test set\n",
    "loss, accuracy = bidirect_model.evaluate(X_test, Y_test, verbose=0)\n",
    "\n",
    "# Apply one-hot encoding to predictions\n",
    "one_hot_encoded_data_3d = one_hot_encode_3d(y_pred)\n",
    "\n",
    "# Flattening the arrays to 2D for multi-label classification\n",
    "y_true_flat = Y_test.reshape(-1, Y_test.shape[-1])\n",
    "y_pred_flat = one_hot_encoded_data_3d.reshape(-1, one_hot_encoded_data_3d.shape[-1])\n",
    "\n",
    "# Calculate the F1 score\n",
    "result_1 = f1_score(y_true_flat, y_pred_flat, average=\"weighted\")\n",
    "\n",
    "# Print the weighted F1-Score\n",
    "print(f\"Weighted F1-Score: {round(result_1 * 100, 2)} %\")\n",
    "\n",
    "# Print accuracy in a similar format\n",
    "print(f\"Accuracy: {round(accuracy * 100, 2)} %\")"
   ]
  },
  {
   "cell_type": "markdown",
   "id": "5cb01d0b",
   "metadata": {},
   "source": [
    "## Step 7 : Inference Using NetworkX"
   ]
  },
  {
   "cell_type": "code",
   "execution_count": 103,
   "id": "e89f3847",
   "metadata": {},
   "outputs": [
    {
     "name": "stdout",
     "output_type": "stream",
     "text": [
      "1/1 [==============================] - 1s 676ms/step\n",
      "Pos Tagged Words: [('يريد', 'verb'), ('الزوجان', 'noun'), ('زيارة', 'noun'), ('الولايات', 'noun'), ('المتحدة', 'adj'), ('العام', 'adj'), ('القادم', 'adj'), ('فى', 'adp'), ('فصل', 'noun'), ('الصيف', 'noun')]\n"
     ]
    }
   ],
   "source": [
    "# Define a function to classify part-of-speech tags for words in a given sentence\n",
    "def classify(sentence):\n",
    "    seq = word_tokenizer.texts_to_sequences([sentence])\n",
    "    pad_seq = pad_sequences(seq, maxlen=MAX_SEQ_LENGTH, padding=PADDING, truncating=TRUNCATING)\n",
    "    pred = bidirect_model.predict(pad_seq).argmax(-1)\n",
    "    output = [tag_tokenizer.index_word[tag] for tag in pred[0] if tag != 0]\n",
    "    return output\n",
    "\n",
    "# Sample sentence\n",
    "sentence = \"يريد الزوجان زيارة الولايات المتحدة العام القادم فى فصل الصيف\"\n",
    "\n",
    "# Apply the classify function to obtain part-of-speech tags for each word in the sentence\n",
    "output = classify(sentence)\n",
    "\n",
    "# Ensure all words are considered, even if the output list is shorter\n",
    "pos_tagged_words = [(word, output[i] if i < len(output) else None) for i, word in enumerate(sentence.split())]\n",
    "\n",
    "# Print the part-of-speech tags for each word in the sentence\n",
    "print(\"Pos Tagged Words:\", pos_tagged_words)"
   ]
  },
  {
   "cell_type": "markdown",
   "id": "4df1176a",
   "metadata": {},
   "source": [
    "#### Using NetworkX for drawing a directed graph"
   ]
  },
  {
   "cell_type": "code",
   "execution_count": 120,
   "id": "ec4594c2",
   "metadata": {},
   "outputs": [],
   "source": [
    "def draw_directed_graph(pos_tagged_words):\n",
    "    # Create a directed graph\n",
    "    G = nx.DiGraph()\n",
    "\n",
    "    # Add nodes and edges based on the POS tags\n",
    "    for i in range(len(pos_tagged_words) - 1):\n",
    "        current_word, current_pos = pos_tagged_words[i]\n",
    "        next_word, next_pos = pos_tagged_words[i + 1]\n",
    "\n",
    "        G.add_node(current_word, pos=current_pos)\n",
    "        G.add_node(next_word, pos=next_pos)\n",
    "        G.add_edge(current_word, next_word)\n",
    "\n",
    "    # Map POS tags to colors dynamically\n",
    "    pos_to_color = {pos: sns.color_palette(\"husl\", n_colors=len(set(tag for _, tag in pos_tagged_words)))[i] for i, pos in enumerate(set(tag for _, tag in pos_tagged_words))}\n",
    "\n",
    "    # Create a list of colors for each node\n",
    "    node_colors = [pos_to_color[G.nodes[node][\"pos\"]] for node in G.nodes]\n",
    "\n",
    "    # Draw the graph with larger nodes\n",
    "    pos = nx.spring_layout(G)\n",
    "    nx.draw(G, pos, with_labels=False, node_color=node_colors, node_size=1500, font_size=10, font_color=\"white\")\n",
    "\n",
    "    # Add text labels (POS tags) centered inside each node with Arabic text\n",
    "    for node, (x, y) in pos.items():\n",
    "        reshaped_text = arabic_reshaper.reshape(node)\n",
    "        bidi_text = get_display(reshaped_text)\n",
    "        plt.text(x, y, f\"{bidi_text}\\n{G.nodes[node]['pos']}\", fontsize=12, color=\"black\", ha=\"center\", va=\"center\", fontfamily='Arial')\n",
    "\n",
    "    # Show the graph\n",
    "    plt.show()"
   ]
  },
  {
   "cell_type": "code",
   "execution_count": 122,
   "id": "df438f7c",
   "metadata": {},
   "outputs": [
    {
     "data": {
      "image/png": "[encoded data removed]",
      "text/plain": [
       "<Figure size 640x480 with 1 Axes>"
      ]
     },
     "metadata": {},
     "output_type": "display_data"
    }
   ],
   "source": [
    "# Assuming 'pos_tagged_words' is your list of POS tagged words from the previous code.\n",
    "draw_directed_graph(pos_tagged_words)"
   ]
  },
  {
   "cell_type": "markdown",
   "id": "a1bf77fd",
   "metadata": {},
   "source": [
    "#### Another way to use NetworkX rather than drawing a directed graph"
   ]
  },
  {
   "cell_type": "code",
   "execution_count": 139,
   "id": "f6b336e7",
   "metadata": {},
   "outputs": [],
   "source": [
    "def create_graph(pos_tags):\n",
    "    # Create an empty graph using NetworkX\n",
    "    Graph = nx.Graph()\n",
    "\n",
    "    # Add nodes to the graph based on unique words and POS tags\n",
    "    for word, tag in pos_tags:\n",
    "        if tag:  # Check if tag is not None\n",
    "            Graph.add_node(word, pos_tag=tag)\n",
    "\n",
    "    # Add edges to the graph connecting words with the same POS tag\n",
    "    for word1, tag1 in pos_tags:\n",
    "        for word2, tag2 in pos_tags:\n",
    "            if tag1 and tag2 and tag1 == tag2 and word1 != word2:  # Check if tags are not None\n",
    "                if not Graph.has_edge(word1, word2):\n",
    "                    Graph.add_edge(word1, word2)\n",
    "\n",
    "    return Graph\n",
    "\n",
    "def draw_graph(graph, font_size=20):\n",
    "    plt.figure(figsize=(20, 10))\n",
    "    pos = nx.spring_layout(graph, k=0.5, seed=42)\n",
    "    labels = nx.get_node_attributes(graph, 'pos_tag')\n",
    "    node_labels = {node: f\"{node} ({labels.get(node, '')})\" for node in graph.nodes()}\n",
    "\n",
    "    # Reshape Arabic text using arabic_reshaper and get_display\n",
    "    reshaped_labels = {node: get_display(arabic_reshaper.reshape(label)) for node, label in node_labels.items()}\n",
    "\n",
    "    nx.draw(\n",
    "        graph,\n",
    "        pos,\n",
    "        with_labels=True,\n",
    "        labels=reshaped_labels,\n",
    "        font_size=font_size,\n",
    "        node_size=1000,  # Adjust the node size as needed\n",
    "        font_color='black',\n",
    "        node_color='lightblue',\n",
    "        edge_color='gray',\n",
    "        width=1,\n",
    "        alpha=1\n",
    "    )\n",
    "\n",
    "    plt.title(\"Arabic Part Of Speech Tagging with NetworkX\", fontsize=font_size+5, fontweight='bold')\n",
    "    plt.axis('off')\n",
    "    plt.show()"
   ]
  },
  {
   "cell_type": "code",
   "execution_count": 140,
   "id": "63d582d9",
   "metadata": {},
   "outputs": [
    {
     "data": {
      "image/png": "[encoded data removed]",
      "text/plain": [
       "<Figure size 2000x1000 with 1 Axes>"
      ]
     },
     "metadata": {},
     "output_type": "display_data"
    }
   ],
   "source": [
    "# 'pos_tagged_words' is my list of POS tagged words\n",
    "graph = create_graph(pos_tagged_words)\n",
    "draw_graph(graph, font_size=18)  # You can adjust the font size as needed"
   ]
  }
 ],
 "metadata": {
  "kernelspec": {
   "display_name": "Python 3 (ipykernel)",
   "language": "python",
   "name": "python3"
  },
  "language_info": {
   "codemirror_mode": {
    "name": "ipython",
    "version": 3
   },
   "file_extension": ".py",
   "mimetype": "text/x-python",
   "name": "python",
   "nbconvert_exporter": "python",
   "pygments_lexer": "ipython3",
   "version": "3.9.13"
  }
 },
 "nbformat": 4,
 "nbformat_minor": 5
}
